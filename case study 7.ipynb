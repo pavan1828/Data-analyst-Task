{
 "cells": [
  {
   "cell_type": "code",
   "execution_count": 1,
   "id": "fa9de9e5",
   "metadata": {},
   "outputs": [],
   "source": [
    "import numpy as np,pandas as pd\n",
    "import matplotlib.pyplot as plt\n",
    "import seaborn as sns\n",
    "import warnings \n",
    "warnings.filterwarnings('ignore')"
   ]
  },
  {
   "cell_type": "code",
   "execution_count": 2,
   "id": "6ee4b882",
   "metadata": {},
   "outputs": [],
   "source": [
    "product_details=pd.read_csv(r\"C:\\Users\\pc\\batch 261 innomatics\\case studys\\case study 7 csv\\product_details.csv\",index_col=0)\n",
    "product_hierarchy=pd.read_csv(r\"C:\\Users\\pc\\batch 261 innomatics\\case studys\\case study 7 csv\\product_hierarchy.csv\",index_col=0)\n",
    "product_price=pd.read_csv(r\"C:\\Users\\pc\\batch 261 innomatics\\case studys\\case study 7 csv\\product_prices.csv\",index_col=0)\n",
    "sales=pd.read_csv(r\"C:\\Users\\pc\\batch 261 innomatics\\case studys\\case study 7 csv\\sales (1).csv\",index_col=0)"
   ]
  },
  {
   "cell_type": "code",
   "execution_count": 3,
   "id": "4a10839a",
   "metadata": {},
   "outputs": [
    {
     "data": {
      "text/html": [
       "<div>\n",
       "<style scoped>\n",
       "    .dataframe tbody tr th:only-of-type {\n",
       "        vertical-align: middle;\n",
       "    }\n",
       "\n",
       "    .dataframe tbody tr th {\n",
       "        vertical-align: top;\n",
       "    }\n",
       "\n",
       "    .dataframe thead th {\n",
       "        text-align: right;\n",
       "    }\n",
       "</style>\n",
       "<table border=\"1\" class=\"dataframe\">\n",
       "  <thead>\n",
       "    <tr style=\"text-align: right;\">\n",
       "      <th></th>\n",
       "      <th>product_id</th>\n",
       "      <th>price</th>\n",
       "      <th>product_name</th>\n",
       "      <th>category_id</th>\n",
       "      <th>segment_id</th>\n",
       "      <th>style_id</th>\n",
       "      <th>category_name</th>\n",
       "      <th>segment_name</th>\n",
       "      <th>style_name</th>\n",
       "    </tr>\n",
       "  </thead>\n",
       "  <tbody>\n",
       "    <tr>\n",
       "      <th>0</th>\n",
       "      <td>c4a632</td>\n",
       "      <td>13</td>\n",
       "      <td>Navy Oversized Jeans - Womens</td>\n",
       "      <td>1</td>\n",
       "      <td>3</td>\n",
       "      <td>7</td>\n",
       "      <td>Womens</td>\n",
       "      <td>Jeans</td>\n",
       "      <td>Navy Oversized</td>\n",
       "    </tr>\n",
       "    <tr>\n",
       "      <th>1</th>\n",
       "      <td>e83aa3</td>\n",
       "      <td>32</td>\n",
       "      <td>Black Straight Jeans - Womens</td>\n",
       "      <td>1</td>\n",
       "      <td>3</td>\n",
       "      <td>8</td>\n",
       "      <td>Womens</td>\n",
       "      <td>Jeans</td>\n",
       "      <td>Black Straight</td>\n",
       "    </tr>\n",
       "    <tr>\n",
       "      <th>2</th>\n",
       "      <td>e31d39</td>\n",
       "      <td>10</td>\n",
       "      <td>Cream Relaxed Jeans - Womens</td>\n",
       "      <td>1</td>\n",
       "      <td>3</td>\n",
       "      <td>9</td>\n",
       "      <td>Womens</td>\n",
       "      <td>Jeans</td>\n",
       "      <td>Cream Relaxed</td>\n",
       "    </tr>\n",
       "    <tr>\n",
       "      <th>3</th>\n",
       "      <td>d5e9a6</td>\n",
       "      <td>23</td>\n",
       "      <td>Khaki Suit Jacket - Womens</td>\n",
       "      <td>1</td>\n",
       "      <td>4</td>\n",
       "      <td>10</td>\n",
       "      <td>Womens</td>\n",
       "      <td>Jacket</td>\n",
       "      <td>Khaki Suit</td>\n",
       "    </tr>\n",
       "    <tr>\n",
       "      <th>4</th>\n",
       "      <td>72f5d4</td>\n",
       "      <td>19</td>\n",
       "      <td>Indigo Rain Jacket - Womens</td>\n",
       "      <td>1</td>\n",
       "      <td>4</td>\n",
       "      <td>11</td>\n",
       "      <td>Womens</td>\n",
       "      <td>Jacket</td>\n",
       "      <td>Indigo Rain</td>\n",
       "    </tr>\n",
       "    <tr>\n",
       "      <th>5</th>\n",
       "      <td>9ec847</td>\n",
       "      <td>54</td>\n",
       "      <td>Grey Fashion Jacket - Womens</td>\n",
       "      <td>1</td>\n",
       "      <td>4</td>\n",
       "      <td>12</td>\n",
       "      <td>Womens</td>\n",
       "      <td>Jacket</td>\n",
       "      <td>Grey Fashion</td>\n",
       "    </tr>\n",
       "    <tr>\n",
       "      <th>6</th>\n",
       "      <td>5d267b</td>\n",
       "      <td>40</td>\n",
       "      <td>White Tee Shirt - Mens</td>\n",
       "      <td>2</td>\n",
       "      <td>5</td>\n",
       "      <td>13</td>\n",
       "      <td>Mens</td>\n",
       "      <td>Shirt</td>\n",
       "      <td>White Tee</td>\n",
       "    </tr>\n",
       "    <tr>\n",
       "      <th>7</th>\n",
       "      <td>c8d436</td>\n",
       "      <td>10</td>\n",
       "      <td>Teal Button Up Shirt - Mens</td>\n",
       "      <td>2</td>\n",
       "      <td>5</td>\n",
       "      <td>14</td>\n",
       "      <td>Mens</td>\n",
       "      <td>Shirt</td>\n",
       "      <td>Teal Button Up</td>\n",
       "    </tr>\n",
       "    <tr>\n",
       "      <th>8</th>\n",
       "      <td>2a2353</td>\n",
       "      <td>57</td>\n",
       "      <td>Blue Polo Shirt - Mens</td>\n",
       "      <td>2</td>\n",
       "      <td>5</td>\n",
       "      <td>15</td>\n",
       "      <td>Mens</td>\n",
       "      <td>Shirt</td>\n",
       "      <td>Blue Polo</td>\n",
       "    </tr>\n",
       "    <tr>\n",
       "      <th>9</th>\n",
       "      <td>f084eb</td>\n",
       "      <td>36</td>\n",
       "      <td>Navy Solid Socks - Mens</td>\n",
       "      <td>2</td>\n",
       "      <td>6</td>\n",
       "      <td>16</td>\n",
       "      <td>Mens</td>\n",
       "      <td>Socks</td>\n",
       "      <td>Navy Solid</td>\n",
       "    </tr>\n",
       "    <tr>\n",
       "      <th>10</th>\n",
       "      <td>b9a74d</td>\n",
       "      <td>17</td>\n",
       "      <td>White Striped Socks - Mens</td>\n",
       "      <td>2</td>\n",
       "      <td>6</td>\n",
       "      <td>17</td>\n",
       "      <td>Mens</td>\n",
       "      <td>Socks</td>\n",
       "      <td>White Striped</td>\n",
       "    </tr>\n",
       "    <tr>\n",
       "      <th>11</th>\n",
       "      <td>2feb6b</td>\n",
       "      <td>29</td>\n",
       "      <td>Pink Fluro Polkadot Socks - Mens</td>\n",
       "      <td>2</td>\n",
       "      <td>6</td>\n",
       "      <td>18</td>\n",
       "      <td>Mens</td>\n",
       "      <td>Socks</td>\n",
       "      <td>Pink Fluro Polkadot</td>\n",
       "    </tr>\n",
       "  </tbody>\n",
       "</table>\n",
       "</div>"
      ],
      "text/plain": [
       "   product_id  price                      product_name  category_id  \\\n",
       "0      c4a632     13     Navy Oversized Jeans - Womens            1   \n",
       "1      e83aa3     32     Black Straight Jeans - Womens            1   \n",
       "2      e31d39     10      Cream Relaxed Jeans - Womens            1   \n",
       "3      d5e9a6     23        Khaki Suit Jacket - Womens            1   \n",
       "4      72f5d4     19       Indigo Rain Jacket - Womens            1   \n",
       "5      9ec847     54      Grey Fashion Jacket - Womens            1   \n",
       "6      5d267b     40            White Tee Shirt - Mens            2   \n",
       "7      c8d436     10       Teal Button Up Shirt - Mens            2   \n",
       "8      2a2353     57            Blue Polo Shirt - Mens            2   \n",
       "9      f084eb     36           Navy Solid Socks - Mens            2   \n",
       "10     b9a74d     17        White Striped Socks - Mens            2   \n",
       "11     2feb6b     29  Pink Fluro Polkadot Socks - Mens            2   \n",
       "\n",
       "    segment_id  style_id category_name segment_name           style_name  \n",
       "0            3         7        Womens        Jeans       Navy Oversized  \n",
       "1            3         8        Womens        Jeans       Black Straight  \n",
       "2            3         9        Womens        Jeans        Cream Relaxed  \n",
       "3            4        10        Womens       Jacket           Khaki Suit  \n",
       "4            4        11        Womens       Jacket          Indigo Rain  \n",
       "5            4        12        Womens       Jacket         Grey Fashion  \n",
       "6            5        13          Mens        Shirt            White Tee  \n",
       "7            5        14          Mens        Shirt       Teal Button Up  \n",
       "8            5        15          Mens        Shirt            Blue Polo  \n",
       "9            6        16          Mens        Socks           Navy Solid  \n",
       "10           6        17          Mens        Socks        White Striped  \n",
       "11           6        18          Mens        Socks  Pink Fluro Polkadot  "
      ]
     },
     "execution_count": 3,
     "metadata": {},
     "output_type": "execute_result"
    }
   ],
   "source": [
    "product_details"
   ]
  },
  {
   "cell_type": "code",
   "execution_count": 4,
   "id": "1c832e8f",
   "metadata": {},
   "outputs": [
    {
     "name": "stdout",
     "output_type": "stream",
     "text": [
      "<class 'pandas.core.frame.DataFrame'>\n",
      "Index: 12 entries, 0 to 11\n",
      "Data columns (total 9 columns):\n",
      " #   Column         Non-Null Count  Dtype \n",
      "---  ------         --------------  ----- \n",
      " 0   product_id     12 non-null     object\n",
      " 1   price          12 non-null     int64 \n",
      " 2   product_name   12 non-null     object\n",
      " 3   category_id    12 non-null     int64 \n",
      " 4   segment_id     12 non-null     int64 \n",
      " 5   style_id       12 non-null     int64 \n",
      " 6   category_name  12 non-null     object\n",
      " 7   segment_name   12 non-null     object\n",
      " 8   style_name     12 non-null     object\n",
      "dtypes: int64(4), object(5)\n",
      "memory usage: 960.0+ bytes\n"
     ]
    }
   ],
   "source": [
    "product_details.info()"
   ]
  },
  {
   "cell_type": "code",
   "execution_count": 5,
   "id": "503a5155",
   "metadata": {},
   "outputs": [
    {
     "data": {
      "text/plain": [
       "product_id       0\n",
       "price            0\n",
       "product_name     0\n",
       "category_id      0\n",
       "segment_id       0\n",
       "style_id         0\n",
       "category_name    0\n",
       "segment_name     0\n",
       "style_name       0\n",
       "dtype: int64"
      ]
     },
     "execution_count": 5,
     "metadata": {},
     "output_type": "execute_result"
    }
   ],
   "source": [
    "product_details.isna().sum()"
   ]
  },
  {
   "cell_type": "code",
   "execution_count": 6,
   "id": "58236990",
   "metadata": {},
   "outputs": [
    {
     "data": {
      "text/html": [
       "<div>\n",
       "<style scoped>\n",
       "    .dataframe tbody tr th:only-of-type {\n",
       "        vertical-align: middle;\n",
       "    }\n",
       "\n",
       "    .dataframe tbody tr th {\n",
       "        vertical-align: top;\n",
       "    }\n",
       "\n",
       "    .dataframe thead th {\n",
       "        text-align: right;\n",
       "    }\n",
       "</style>\n",
       "<table border=\"1\" class=\"dataframe\">\n",
       "  <thead>\n",
       "    <tr style=\"text-align: right;\">\n",
       "      <th></th>\n",
       "      <th>count</th>\n",
       "      <th>mean</th>\n",
       "      <th>std</th>\n",
       "      <th>min</th>\n",
       "      <th>25%</th>\n",
       "      <th>50%</th>\n",
       "      <th>75%</th>\n",
       "      <th>max</th>\n",
       "    </tr>\n",
       "  </thead>\n",
       "  <tbody>\n",
       "    <tr>\n",
       "      <th>price</th>\n",
       "      <td>12.0</td>\n",
       "      <td>28.333333</td>\n",
       "      <td>16.069923</td>\n",
       "      <td>10.0</td>\n",
       "      <td>16.00</td>\n",
       "      <td>26.0</td>\n",
       "      <td>37.00</td>\n",
       "      <td>57.0</td>\n",
       "    </tr>\n",
       "    <tr>\n",
       "      <th>category_id</th>\n",
       "      <td>12.0</td>\n",
       "      <td>1.500000</td>\n",
       "      <td>0.522233</td>\n",
       "      <td>1.0</td>\n",
       "      <td>1.00</td>\n",
       "      <td>1.5</td>\n",
       "      <td>2.00</td>\n",
       "      <td>2.0</td>\n",
       "    </tr>\n",
       "    <tr>\n",
       "      <th>segment_id</th>\n",
       "      <td>12.0</td>\n",
       "      <td>4.500000</td>\n",
       "      <td>1.167748</td>\n",
       "      <td>3.0</td>\n",
       "      <td>3.75</td>\n",
       "      <td>4.5</td>\n",
       "      <td>5.25</td>\n",
       "      <td>6.0</td>\n",
       "    </tr>\n",
       "    <tr>\n",
       "      <th>style_id</th>\n",
       "      <td>12.0</td>\n",
       "      <td>12.500000</td>\n",
       "      <td>3.605551</td>\n",
       "      <td>7.0</td>\n",
       "      <td>9.75</td>\n",
       "      <td>12.5</td>\n",
       "      <td>15.25</td>\n",
       "      <td>18.0</td>\n",
       "    </tr>\n",
       "  </tbody>\n",
       "</table>\n",
       "</div>"
      ],
      "text/plain": [
       "             count       mean        std   min    25%   50%    75%   max\n",
       "price         12.0  28.333333  16.069923  10.0  16.00  26.0  37.00  57.0\n",
       "category_id   12.0   1.500000   0.522233   1.0   1.00   1.5   2.00   2.0\n",
       "segment_id    12.0   4.500000   1.167748   3.0   3.75   4.5   5.25   6.0\n",
       "style_id      12.0  12.500000   3.605551   7.0   9.75  12.5  15.25  18.0"
      ]
     },
     "execution_count": 6,
     "metadata": {},
     "output_type": "execute_result"
    }
   ],
   "source": [
    "product_details.describe().T"
   ]
  },
  {
   "cell_type": "code",
   "execution_count": 7,
   "id": "3a085f48",
   "metadata": {},
   "outputs": [
    {
     "data": {
      "image/png": "[encoded data removed]",
      "text/plain": [
       "<Figure size 640x480 with 1 Axes>"
      ]
     },
     "metadata": {},
     "output_type": "display_data"
    }
   ],
   "source": [
    "sns.countplot(x='style_name',data=product_details)\n",
    "plt.title('countplot of  style_name')\n",
    "plt.xticks(rotation=90)\n",
    "plt.show()"
   ]
  },
  {
   "cell_type": "code",
   "execution_count": 8,
   "id": "9c3802d4",
   "metadata": {},
   "outputs": [
    {
     "data": {
      "text/html": [
       "<div>\n",
       "<style scoped>\n",
       "    .dataframe tbody tr th:only-of-type {\n",
       "        vertical-align: middle;\n",
       "    }\n",
       "\n",
       "    .dataframe tbody tr th {\n",
       "        vertical-align: top;\n",
       "    }\n",
       "\n",
       "    .dataframe thead th {\n",
       "        text-align: right;\n",
       "    }\n",
       "</style>\n",
       "<table border=\"1\" class=\"dataframe\">\n",
       "  <thead>\n",
       "    <tr style=\"text-align: right;\">\n",
       "      <th></th>\n",
       "      <th>id</th>\n",
       "      <th>product_id</th>\n",
       "      <th>price</th>\n",
       "    </tr>\n",
       "  </thead>\n",
       "  <tbody>\n",
       "    <tr>\n",
       "      <th>0</th>\n",
       "      <td>7</td>\n",
       "      <td>c4a632</td>\n",
       "      <td>13</td>\n",
       "    </tr>\n",
       "    <tr>\n",
       "      <th>1</th>\n",
       "      <td>8</td>\n",
       "      <td>e83aa3</td>\n",
       "      <td>32</td>\n",
       "    </tr>\n",
       "    <tr>\n",
       "      <th>2</th>\n",
       "      <td>9</td>\n",
       "      <td>e31d39</td>\n",
       "      <td>10</td>\n",
       "    </tr>\n",
       "    <tr>\n",
       "      <th>3</th>\n",
       "      <td>10</td>\n",
       "      <td>d5e9a6</td>\n",
       "      <td>23</td>\n",
       "    </tr>\n",
       "    <tr>\n",
       "      <th>4</th>\n",
       "      <td>11</td>\n",
       "      <td>72f5d4</td>\n",
       "      <td>19</td>\n",
       "    </tr>\n",
       "    <tr>\n",
       "      <th>5</th>\n",
       "      <td>12</td>\n",
       "      <td>9ec847</td>\n",
       "      <td>54</td>\n",
       "    </tr>\n",
       "    <tr>\n",
       "      <th>6</th>\n",
       "      <td>13</td>\n",
       "      <td>5d267b</td>\n",
       "      <td>40</td>\n",
       "    </tr>\n",
       "    <tr>\n",
       "      <th>7</th>\n",
       "      <td>14</td>\n",
       "      <td>c8d436</td>\n",
       "      <td>10</td>\n",
       "    </tr>\n",
       "    <tr>\n",
       "      <th>8</th>\n",
       "      <td>15</td>\n",
       "      <td>2a2353</td>\n",
       "      <td>57</td>\n",
       "    </tr>\n",
       "    <tr>\n",
       "      <th>9</th>\n",
       "      <td>16</td>\n",
       "      <td>f084eb</td>\n",
       "      <td>36</td>\n",
       "    </tr>\n",
       "    <tr>\n",
       "      <th>10</th>\n",
       "      <td>17</td>\n",
       "      <td>b9a74d</td>\n",
       "      <td>17</td>\n",
       "    </tr>\n",
       "    <tr>\n",
       "      <th>11</th>\n",
       "      <td>18</td>\n",
       "      <td>2feb6b</td>\n",
       "      <td>29</td>\n",
       "    </tr>\n",
       "  </tbody>\n",
       "</table>\n",
       "</div>"
      ],
      "text/plain": [
       "    id product_id  price\n",
       "0    7     c4a632     13\n",
       "1    8     e83aa3     32\n",
       "2    9     e31d39     10\n",
       "3   10     d5e9a6     23\n",
       "4   11     72f5d4     19\n",
       "5   12     9ec847     54\n",
       "6   13     5d267b     40\n",
       "7   14     c8d436     10\n",
       "8   15     2a2353     57\n",
       "9   16     f084eb     36\n",
       "10  17     b9a74d     17\n",
       "11  18     2feb6b     29"
      ]
     },
     "execution_count": 8,
     "metadata": {},
     "output_type": "execute_result"
    }
   ],
   "source": [
    "product_price"
   ]
  },
  {
   "cell_type": "code",
   "execution_count": 9,
   "id": "5feb3580",
   "metadata": {},
   "outputs": [
    {
     "name": "stdout",
     "output_type": "stream",
     "text": [
      "<class 'pandas.core.frame.DataFrame'>\n",
      "Index: 12 entries, 0 to 11\n",
      "Data columns (total 3 columns):\n",
      " #   Column      Non-Null Count  Dtype \n",
      "---  ------      --------------  ----- \n",
      " 0   id          12 non-null     int64 \n",
      " 1   product_id  12 non-null     object\n",
      " 2   price       12 non-null     int64 \n",
      "dtypes: int64(2), object(1)\n",
      "memory usage: 384.0+ bytes\n"
     ]
    }
   ],
   "source": [
    "product_price.info()"
   ]
  },
  {
   "cell_type": "code",
   "execution_count": 10,
   "id": "e58ebf5b",
   "metadata": {},
   "outputs": [
    {
     "data": {
      "text/plain": [
       "id            0\n",
       "product_id    0\n",
       "price         0\n",
       "dtype: int64"
      ]
     },
     "execution_count": 10,
     "metadata": {},
     "output_type": "execute_result"
    }
   ],
   "source": [
    "product_price.isna().sum()"
   ]
  },
  {
   "cell_type": "code",
   "execution_count": 11,
   "id": "393679f8",
   "metadata": {},
   "outputs": [
    {
     "data": {
      "text/html": [
       "<div>\n",
       "<style scoped>\n",
       "    .dataframe tbody tr th:only-of-type {\n",
       "        vertical-align: middle;\n",
       "    }\n",
       "\n",
       "    .dataframe tbody tr th {\n",
       "        vertical-align: top;\n",
       "    }\n",
       "\n",
       "    .dataframe thead th {\n",
       "        text-align: right;\n",
       "    }\n",
       "</style>\n",
       "<table border=\"1\" class=\"dataframe\">\n",
       "  <thead>\n",
       "    <tr style=\"text-align: right;\">\n",
       "      <th></th>\n",
       "      <th>prod_id</th>\n",
       "      <th>qty</th>\n",
       "      <th>price</th>\n",
       "      <th>discount</th>\n",
       "      <th>member</th>\n",
       "      <th>txn_id</th>\n",
       "      <th>start_txn_time</th>\n",
       "    </tr>\n",
       "  </thead>\n",
       "  <tbody>\n",
       "    <tr>\n",
       "      <th>0</th>\n",
       "      <td>c4a632</td>\n",
       "      <td>4</td>\n",
       "      <td>13</td>\n",
       "      <td>17</td>\n",
       "      <td>t</td>\n",
       "      <td>54f307</td>\n",
       "      <td>2021-02-13 01:59:43.296</td>\n",
       "    </tr>\n",
       "    <tr>\n",
       "      <th>1</th>\n",
       "      <td>5d267b</td>\n",
       "      <td>4</td>\n",
       "      <td>40</td>\n",
       "      <td>17</td>\n",
       "      <td>t</td>\n",
       "      <td>54f307</td>\n",
       "      <td>2021-02-13 01:59:43.296</td>\n",
       "    </tr>\n",
       "    <tr>\n",
       "      <th>2</th>\n",
       "      <td>b9a74d</td>\n",
       "      <td>4</td>\n",
       "      <td>17</td>\n",
       "      <td>17</td>\n",
       "      <td>t</td>\n",
       "      <td>54f307</td>\n",
       "      <td>2021-02-13 01:59:43.296</td>\n",
       "    </tr>\n",
       "    <tr>\n",
       "      <th>3</th>\n",
       "      <td>2feb6b</td>\n",
       "      <td>2</td>\n",
       "      <td>29</td>\n",
       "      <td>17</td>\n",
       "      <td>t</td>\n",
       "      <td>54f307</td>\n",
       "      <td>2021-02-13 01:59:43.296</td>\n",
       "    </tr>\n",
       "    <tr>\n",
       "      <th>4</th>\n",
       "      <td>c4a632</td>\n",
       "      <td>5</td>\n",
       "      <td>13</td>\n",
       "      <td>21</td>\n",
       "      <td>t</td>\n",
       "      <td>26cc98</td>\n",
       "      <td>2021-01-19 01:39:00.3456</td>\n",
       "    </tr>\n",
       "    <tr>\n",
       "      <th>...</th>\n",
       "      <td>...</td>\n",
       "      <td>...</td>\n",
       "      <td>...</td>\n",
       "      <td>...</td>\n",
       "      <td>...</td>\n",
       "      <td>...</td>\n",
       "      <td>...</td>\n",
       "    </tr>\n",
       "    <tr>\n",
       "      <th>15090</th>\n",
       "      <td>9ec847</td>\n",
       "      <td>1</td>\n",
       "      <td>54</td>\n",
       "      <td>13</td>\n",
       "      <td>t</td>\n",
       "      <td>f15ab3</td>\n",
       "      <td>2021-03-20 12:01:22.944</td>\n",
       "    </tr>\n",
       "    <tr>\n",
       "      <th>15091</th>\n",
       "      <td>2a2353</td>\n",
       "      <td>3</td>\n",
       "      <td>57</td>\n",
       "      <td>13</td>\n",
       "      <td>t</td>\n",
       "      <td>f15ab3</td>\n",
       "      <td>2021-03-20 12:01:22.944</td>\n",
       "    </tr>\n",
       "    <tr>\n",
       "      <th>15092</th>\n",
       "      <td>e83aa3</td>\n",
       "      <td>5</td>\n",
       "      <td>32</td>\n",
       "      <td>1</td>\n",
       "      <td>t</td>\n",
       "      <td>93620b</td>\n",
       "      <td>2021-03-01 07:11:24.6624</td>\n",
       "    </tr>\n",
       "    <tr>\n",
       "      <th>15093</th>\n",
       "      <td>d5e9a6</td>\n",
       "      <td>2</td>\n",
       "      <td>23</td>\n",
       "      <td>1</td>\n",
       "      <td>t</td>\n",
       "      <td>93620b</td>\n",
       "      <td>2021-03-01 07:11:24.6624</td>\n",
       "    </tr>\n",
       "    <tr>\n",
       "      <th>15094</th>\n",
       "      <td>5d267b</td>\n",
       "      <td>2</td>\n",
       "      <td>40</td>\n",
       "      <td>1</td>\n",
       "      <td>t</td>\n",
       "      <td>93620b</td>\n",
       "      <td>2021-03-01 07:11:24.6624</td>\n",
       "    </tr>\n",
       "  </tbody>\n",
       "</table>\n",
       "<p>15095 rows × 7 columns</p>\n",
       "</div>"
      ],
      "text/plain": [
       "      prod_id  qty  price  discount member  txn_id            start_txn_time\n",
       "0      c4a632    4     13        17      t  54f307   2021-02-13 01:59:43.296\n",
       "1      5d267b    4     40        17      t  54f307   2021-02-13 01:59:43.296\n",
       "2      b9a74d    4     17        17      t  54f307   2021-02-13 01:59:43.296\n",
       "3      2feb6b    2     29        17      t  54f307   2021-02-13 01:59:43.296\n",
       "4      c4a632    5     13        21      t  26cc98  2021-01-19 01:39:00.3456\n",
       "...       ...  ...    ...       ...    ...     ...                       ...\n",
       "15090  9ec847    1     54        13      t  f15ab3   2021-03-20 12:01:22.944\n",
       "15091  2a2353    3     57        13      t  f15ab3   2021-03-20 12:01:22.944\n",
       "15092  e83aa3    5     32         1      t  93620b  2021-03-01 07:11:24.6624\n",
       "15093  d5e9a6    2     23         1      t  93620b  2021-03-01 07:11:24.6624\n",
       "15094  5d267b    2     40         1      t  93620b  2021-03-01 07:11:24.6624\n",
       "\n",
       "[15095 rows x 7 columns]"
      ]
     },
     "execution_count": 11,
     "metadata": {},
     "output_type": "execute_result"
    }
   ],
   "source": [
    "sales"
   ]
  },
  {
   "cell_type": "code",
   "execution_count": 12,
   "id": "4cc9d312",
   "metadata": {},
   "outputs": [
    {
     "name": "stdout",
     "output_type": "stream",
     "text": [
      "<class 'pandas.core.frame.DataFrame'>\n",
      "Index: 15095 entries, 0 to 15094\n",
      "Data columns (total 7 columns):\n",
      " #   Column          Non-Null Count  Dtype \n",
      "---  ------          --------------  ----- \n",
      " 0   prod_id         15095 non-null  object\n",
      " 1   qty             15095 non-null  int64 \n",
      " 2   price           15095 non-null  int64 \n",
      " 3   discount        15095 non-null  int64 \n",
      " 4   member          15095 non-null  object\n",
      " 5   txn_id          15095 non-null  object\n",
      " 6   start_txn_time  15095 non-null  object\n",
      "dtypes: int64(3), object(4)\n",
      "memory usage: 943.4+ KB\n"
     ]
    }
   ],
   "source": [
    "sales.info()"
   ]
  },
  {
   "cell_type": "code",
   "execution_count": 13,
   "id": "d2993e35",
   "metadata": {},
   "outputs": [],
   "source": [
    "sales['start_txn_time']=pd.to_datetime(sales['start_txn_time'],format='ISO8601')\n"
   ]
  },
  {
   "cell_type": "code",
   "execution_count": 14,
   "id": "cf888a7a",
   "metadata": {},
   "outputs": [
    {
     "name": "stdout",
     "output_type": "stream",
     "text": [
      "<class 'pandas.core.frame.DataFrame'>\n",
      "Index: 15095 entries, 0 to 15094\n",
      "Data columns (total 7 columns):\n",
      " #   Column          Non-Null Count  Dtype         \n",
      "---  ------          --------------  -----         \n",
      " 0   prod_id         15095 non-null  object        \n",
      " 1   qty             15095 non-null  int64         \n",
      " 2   price           15095 non-null  int64         \n",
      " 3   discount        15095 non-null  int64         \n",
      " 4   member          15095 non-null  object        \n",
      " 5   txn_id          15095 non-null  object        \n",
      " 6   start_txn_time  15095 non-null  datetime64[ns]\n",
      "dtypes: datetime64[ns](1), int64(3), object(3)\n",
      "memory usage: 943.4+ KB\n"
     ]
    }
   ],
   "source": [
    "sales.info()"
   ]
  },
  {
   "cell_type": "code",
   "execution_count": 15,
   "id": "25aed448",
   "metadata": {},
   "outputs": [
    {
     "data": {
      "text/plain": [
       "prod_id           0\n",
       "qty               0\n",
       "price             0\n",
       "discount          0\n",
       "member            0\n",
       "txn_id            0\n",
       "start_txn_time    0\n",
       "dtype: int64"
      ]
     },
     "execution_count": 15,
     "metadata": {},
     "output_type": "execute_result"
    }
   ],
   "source": [
    "sales.isna().sum()"
   ]
  },
  {
   "cell_type": "code",
   "execution_count": 16,
   "id": "303e11f7",
   "metadata": {},
   "outputs": [
    {
     "data": {
      "text/html": [
       "<div>\n",
       "<style scoped>\n",
       "    .dataframe tbody tr th:only-of-type {\n",
       "        vertical-align: middle;\n",
       "    }\n",
       "\n",
       "    .dataframe tbody tr th {\n",
       "        vertical-align: top;\n",
       "    }\n",
       "\n",
       "    .dataframe thead th {\n",
       "        text-align: right;\n",
       "    }\n",
       "</style>\n",
       "<table border=\"1\" class=\"dataframe\">\n",
       "  <thead>\n",
       "    <tr style=\"text-align: right;\">\n",
       "      <th></th>\n",
       "      <th>id</th>\n",
       "      <th>parent_id</th>\n",
       "      <th>level_text</th>\n",
       "      <th>level_name</th>\n",
       "    </tr>\n",
       "  </thead>\n",
       "  <tbody>\n",
       "    <tr>\n",
       "      <th>0</th>\n",
       "      <td>1</td>\n",
       "      <td>NaN</td>\n",
       "      <td>Womens</td>\n",
       "      <td>Category</td>\n",
       "    </tr>\n",
       "    <tr>\n",
       "      <th>1</th>\n",
       "      <td>2</td>\n",
       "      <td>NaN</td>\n",
       "      <td>Mens</td>\n",
       "      <td>Category</td>\n",
       "    </tr>\n",
       "    <tr>\n",
       "      <th>2</th>\n",
       "      <td>3</td>\n",
       "      <td>1.0</td>\n",
       "      <td>Jeans</td>\n",
       "      <td>Segment</td>\n",
       "    </tr>\n",
       "    <tr>\n",
       "      <th>3</th>\n",
       "      <td>4</td>\n",
       "      <td>1.0</td>\n",
       "      <td>Jacket</td>\n",
       "      <td>Segment</td>\n",
       "    </tr>\n",
       "    <tr>\n",
       "      <th>4</th>\n",
       "      <td>5</td>\n",
       "      <td>2.0</td>\n",
       "      <td>Shirt</td>\n",
       "      <td>Segment</td>\n",
       "    </tr>\n",
       "    <tr>\n",
       "      <th>5</th>\n",
       "      <td>6</td>\n",
       "      <td>2.0</td>\n",
       "      <td>Socks</td>\n",
       "      <td>Segment</td>\n",
       "    </tr>\n",
       "    <tr>\n",
       "      <th>6</th>\n",
       "      <td>7</td>\n",
       "      <td>3.0</td>\n",
       "      <td>Navy Oversized</td>\n",
       "      <td>Style</td>\n",
       "    </tr>\n",
       "    <tr>\n",
       "      <th>7</th>\n",
       "      <td>8</td>\n",
       "      <td>3.0</td>\n",
       "      <td>Black Straight</td>\n",
       "      <td>Style</td>\n",
       "    </tr>\n",
       "    <tr>\n",
       "      <th>8</th>\n",
       "      <td>9</td>\n",
       "      <td>3.0</td>\n",
       "      <td>Cream Relaxed</td>\n",
       "      <td>Style</td>\n",
       "    </tr>\n",
       "    <tr>\n",
       "      <th>9</th>\n",
       "      <td>10</td>\n",
       "      <td>4.0</td>\n",
       "      <td>Khaki Suit</td>\n",
       "      <td>Style</td>\n",
       "    </tr>\n",
       "    <tr>\n",
       "      <th>10</th>\n",
       "      <td>11</td>\n",
       "      <td>4.0</td>\n",
       "      <td>Indigo Rain</td>\n",
       "      <td>Style</td>\n",
       "    </tr>\n",
       "    <tr>\n",
       "      <th>11</th>\n",
       "      <td>12</td>\n",
       "      <td>4.0</td>\n",
       "      <td>Grey Fashion</td>\n",
       "      <td>Style</td>\n",
       "    </tr>\n",
       "    <tr>\n",
       "      <th>12</th>\n",
       "      <td>13</td>\n",
       "      <td>5.0</td>\n",
       "      <td>White Tee</td>\n",
       "      <td>Style</td>\n",
       "    </tr>\n",
       "    <tr>\n",
       "      <th>13</th>\n",
       "      <td>14</td>\n",
       "      <td>5.0</td>\n",
       "      <td>Teal Button Up</td>\n",
       "      <td>Style</td>\n",
       "    </tr>\n",
       "    <tr>\n",
       "      <th>14</th>\n",
       "      <td>15</td>\n",
       "      <td>5.0</td>\n",
       "      <td>Blue Polo</td>\n",
       "      <td>Style</td>\n",
       "    </tr>\n",
       "    <tr>\n",
       "      <th>15</th>\n",
       "      <td>16</td>\n",
       "      <td>6.0</td>\n",
       "      <td>Navy Solid</td>\n",
       "      <td>Style</td>\n",
       "    </tr>\n",
       "    <tr>\n",
       "      <th>16</th>\n",
       "      <td>17</td>\n",
       "      <td>6.0</td>\n",
       "      <td>White Striped</td>\n",
       "      <td>Style</td>\n",
       "    </tr>\n",
       "    <tr>\n",
       "      <th>17</th>\n",
       "      <td>18</td>\n",
       "      <td>6.0</td>\n",
       "      <td>Pink Fluro Polkadot</td>\n",
       "      <td>Style</td>\n",
       "    </tr>\n",
       "  </tbody>\n",
       "</table>\n",
       "</div>"
      ],
      "text/plain": [
       "    id  parent_id           level_text level_name\n",
       "0    1        NaN               Womens   Category\n",
       "1    2        NaN                 Mens   Category\n",
       "2    3        1.0                Jeans    Segment\n",
       "3    4        1.0               Jacket    Segment\n",
       "4    5        2.0                Shirt    Segment\n",
       "5    6        2.0                Socks    Segment\n",
       "6    7        3.0       Navy Oversized      Style\n",
       "7    8        3.0       Black Straight      Style\n",
       "8    9        3.0        Cream Relaxed      Style\n",
       "9   10        4.0           Khaki Suit      Style\n",
       "10  11        4.0          Indigo Rain      Style\n",
       "11  12        4.0         Grey Fashion      Style\n",
       "12  13        5.0            White Tee      Style\n",
       "13  14        5.0       Teal Button Up      Style\n",
       "14  15        5.0            Blue Polo      Style\n",
       "15  16        6.0           Navy Solid      Style\n",
       "16  17        6.0        White Striped      Style\n",
       "17  18        6.0  Pink Fluro Polkadot      Style"
      ]
     },
     "execution_count": 16,
     "metadata": {},
     "output_type": "execute_result"
    }
   ],
   "source": [
    "product_hierarchy"
   ]
  },
  {
   "cell_type": "code",
   "execution_count": 17,
   "id": "4b337143",
   "metadata": {},
   "outputs": [
    {
     "name": "stdout",
     "output_type": "stream",
     "text": [
      "<class 'pandas.core.frame.DataFrame'>\n",
      "Index: 18 entries, 0 to 17\n",
      "Data columns (total 4 columns):\n",
      " #   Column      Non-Null Count  Dtype  \n",
      "---  ------      --------------  -----  \n",
      " 0   id          18 non-null     int64  \n",
      " 1   parent_id   16 non-null     float64\n",
      " 2   level_text  18 non-null     object \n",
      " 3   level_name  18 non-null     object \n",
      "dtypes: float64(1), int64(1), object(2)\n",
      "memory usage: 720.0+ bytes\n"
     ]
    }
   ],
   "source": [
    "product_hierarchy.info()"
   ]
  },
  {
   "cell_type": "code",
   "execution_count": 18,
   "id": "9ad37bc4",
   "metadata": {},
   "outputs": [
    {
     "data": {
      "text/plain": [
       "id            0\n",
       "parent_id     2\n",
       "level_text    0\n",
       "level_name    0\n",
       "dtype: int64"
      ]
     },
     "execution_count": 18,
     "metadata": {},
     "output_type": "execute_result"
    }
   ],
   "source": [
    "product_hierarchy.isna().sum()"
   ]
  },
  {
   "cell_type": "markdown",
   "id": "bc7379af",
   "metadata": {},
   "source": [
    "#### 1.What was the total quantity sold for all products?"
   ]
  },
  {
   "cell_type": "code",
   "execution_count": 19,
   "id": "959e9dca",
   "metadata": {},
   "outputs": [
    {
     "data": {
      "text/plain": [
       "45216"
      ]
     },
     "execution_count": 19,
     "metadata": {},
     "output_type": "execute_result"
    }
   ],
   "source": [
    "total_quantity_sold = sales['qty'].sum()\n",
    "total_quantity_sold"
   ]
  },
  {
   "cell_type": "code",
   "execution_count": 20,
   "id": "847b1565",
   "metadata": {},
   "outputs": [
    {
     "data": {
      "image/png": "[encoded data removed]",
      "text/plain": [
       "<Figure size 640x480 with 1 Axes>"
      ]
     },
     "metadata": {},
     "output_type": "display_data"
    }
   ],
   "source": [
    "sns.barplot(y='product_name', x='price', data=product_details, ci=None)\n",
    "plt.title('Quantity by Product Name')\n",
    "plt.ylabel('product Name')\n",
    "plt.xlabel('Price')\n",
    "plt.show()"
   ]
  },
  {
   "cell_type": "markdown",
   "id": "6eed1d69",
   "metadata": {},
   "source": [
    "#### 2. What is the total generated revenue for all products before discounts?\n"
   ]
  },
  {
   "cell_type": "code",
   "execution_count": 21,
   "id": "93484f83",
   "metadata": {},
   "outputs": [],
   "source": [
    "merged_df = pd.merge(sales, product_details, how='left', left_on='prod_id', right_on='product_id')"
   ]
  },
  {
   "cell_type": "code",
   "execution_count": 22,
   "id": "7ed23598",
   "metadata": {},
   "outputs": [
    {
     "data": {
      "text/html": [
       "<div>\n",
       "<style scoped>\n",
       "    .dataframe tbody tr th:only-of-type {\n",
       "        vertical-align: middle;\n",
       "    }\n",
       "\n",
       "    .dataframe tbody tr th {\n",
       "        vertical-align: top;\n",
       "    }\n",
       "\n",
       "    .dataframe thead th {\n",
       "        text-align: right;\n",
       "    }\n",
       "</style>\n",
       "<table border=\"1\" class=\"dataframe\">\n",
       "  <thead>\n",
       "    <tr style=\"text-align: right;\">\n",
       "      <th></th>\n",
       "      <th>prod_id</th>\n",
       "      <th>qty</th>\n",
       "      <th>price_x</th>\n",
       "      <th>discount</th>\n",
       "      <th>member</th>\n",
       "      <th>txn_id</th>\n",
       "      <th>start_txn_time</th>\n",
       "      <th>product_name</th>\n",
       "      <th>category_id</th>\n",
       "      <th>segment_id</th>\n",
       "      <th>style_id</th>\n",
       "      <th>category_name</th>\n",
       "      <th>segment_name</th>\n",
       "      <th>style_name</th>\n",
       "    </tr>\n",
       "  </thead>\n",
       "  <tbody>\n",
       "    <tr>\n",
       "      <th>0</th>\n",
       "      <td>c4a632</td>\n",
       "      <td>4</td>\n",
       "      <td>13</td>\n",
       "      <td>17</td>\n",
       "      <td>t</td>\n",
       "      <td>54f307</td>\n",
       "      <td>2021-02-13 01:59:43.296000</td>\n",
       "      <td>Navy Oversized Jeans - Womens</td>\n",
       "      <td>1</td>\n",
       "      <td>3</td>\n",
       "      <td>7</td>\n",
       "      <td>Womens</td>\n",
       "      <td>Jeans</td>\n",
       "      <td>Navy Oversized</td>\n",
       "    </tr>\n",
       "    <tr>\n",
       "      <th>1</th>\n",
       "      <td>5d267b</td>\n",
       "      <td>4</td>\n",
       "      <td>40</td>\n",
       "      <td>17</td>\n",
       "      <td>t</td>\n",
       "      <td>54f307</td>\n",
       "      <td>2021-02-13 01:59:43.296000</td>\n",
       "      <td>White Tee Shirt - Mens</td>\n",
       "      <td>2</td>\n",
       "      <td>5</td>\n",
       "      <td>13</td>\n",
       "      <td>Mens</td>\n",
       "      <td>Shirt</td>\n",
       "      <td>White Tee</td>\n",
       "    </tr>\n",
       "    <tr>\n",
       "      <th>2</th>\n",
       "      <td>b9a74d</td>\n",
       "      <td>4</td>\n",
       "      <td>17</td>\n",
       "      <td>17</td>\n",
       "      <td>t</td>\n",
       "      <td>54f307</td>\n",
       "      <td>2021-02-13 01:59:43.296000</td>\n",
       "      <td>White Striped Socks - Mens</td>\n",
       "      <td>2</td>\n",
       "      <td>6</td>\n",
       "      <td>17</td>\n",
       "      <td>Mens</td>\n",
       "      <td>Socks</td>\n",
       "      <td>White Striped</td>\n",
       "    </tr>\n",
       "    <tr>\n",
       "      <th>3</th>\n",
       "      <td>2feb6b</td>\n",
       "      <td>2</td>\n",
       "      <td>29</td>\n",
       "      <td>17</td>\n",
       "      <td>t</td>\n",
       "      <td>54f307</td>\n",
       "      <td>2021-02-13 01:59:43.296000</td>\n",
       "      <td>Pink Fluro Polkadot Socks - Mens</td>\n",
       "      <td>2</td>\n",
       "      <td>6</td>\n",
       "      <td>18</td>\n",
       "      <td>Mens</td>\n",
       "      <td>Socks</td>\n",
       "      <td>Pink Fluro Polkadot</td>\n",
       "    </tr>\n",
       "    <tr>\n",
       "      <th>4</th>\n",
       "      <td>c4a632</td>\n",
       "      <td>5</td>\n",
       "      <td>13</td>\n",
       "      <td>21</td>\n",
       "      <td>t</td>\n",
       "      <td>26cc98</td>\n",
       "      <td>2021-01-19 01:39:00.345600</td>\n",
       "      <td>Navy Oversized Jeans - Womens</td>\n",
       "      <td>1</td>\n",
       "      <td>3</td>\n",
       "      <td>7</td>\n",
       "      <td>Womens</td>\n",
       "      <td>Jeans</td>\n",
       "      <td>Navy Oversized</td>\n",
       "    </tr>\n",
       "    <tr>\n",
       "      <th>...</th>\n",
       "      <td>...</td>\n",
       "      <td>...</td>\n",
       "      <td>...</td>\n",
       "      <td>...</td>\n",
       "      <td>...</td>\n",
       "      <td>...</td>\n",
       "      <td>...</td>\n",
       "      <td>...</td>\n",
       "      <td>...</td>\n",
       "      <td>...</td>\n",
       "      <td>...</td>\n",
       "      <td>...</td>\n",
       "      <td>...</td>\n",
       "      <td>...</td>\n",
       "    </tr>\n",
       "    <tr>\n",
       "      <th>15090</th>\n",
       "      <td>9ec847</td>\n",
       "      <td>1</td>\n",
       "      <td>54</td>\n",
       "      <td>13</td>\n",
       "      <td>t</td>\n",
       "      <td>f15ab3</td>\n",
       "      <td>2021-03-20 12:01:22.944000</td>\n",
       "      <td>Grey Fashion Jacket - Womens</td>\n",
       "      <td>1</td>\n",
       "      <td>4</td>\n",
       "      <td>12</td>\n",
       "      <td>Womens</td>\n",
       "      <td>Jacket</td>\n",
       "      <td>Grey Fashion</td>\n",
       "    </tr>\n",
       "    <tr>\n",
       "      <th>15091</th>\n",
       "      <td>2a2353</td>\n",
       "      <td>3</td>\n",
       "      <td>57</td>\n",
       "      <td>13</td>\n",
       "      <td>t</td>\n",
       "      <td>f15ab3</td>\n",
       "      <td>2021-03-20 12:01:22.944000</td>\n",
       "      <td>Blue Polo Shirt - Mens</td>\n",
       "      <td>2</td>\n",
       "      <td>5</td>\n",
       "      <td>15</td>\n",
       "      <td>Mens</td>\n",
       "      <td>Shirt</td>\n",
       "      <td>Blue Polo</td>\n",
       "    </tr>\n",
       "    <tr>\n",
       "      <th>15092</th>\n",
       "      <td>e83aa3</td>\n",
       "      <td>5</td>\n",
       "      <td>32</td>\n",
       "      <td>1</td>\n",
       "      <td>t</td>\n",
       "      <td>93620b</td>\n",
       "      <td>2021-03-01 07:11:24.662400</td>\n",
       "      <td>Black Straight Jeans - Womens</td>\n",
       "      <td>1</td>\n",
       "      <td>3</td>\n",
       "      <td>8</td>\n",
       "      <td>Womens</td>\n",
       "      <td>Jeans</td>\n",
       "      <td>Black Straight</td>\n",
       "    </tr>\n",
       "    <tr>\n",
       "      <th>15093</th>\n",
       "      <td>d5e9a6</td>\n",
       "      <td>2</td>\n",
       "      <td>23</td>\n",
       "      <td>1</td>\n",
       "      <td>t</td>\n",
       "      <td>93620b</td>\n",
       "      <td>2021-03-01 07:11:24.662400</td>\n",
       "      <td>Khaki Suit Jacket - Womens</td>\n",
       "      <td>1</td>\n",
       "      <td>4</td>\n",
       "      <td>10</td>\n",
       "      <td>Womens</td>\n",
       "      <td>Jacket</td>\n",
       "      <td>Khaki Suit</td>\n",
       "    </tr>\n",
       "    <tr>\n",
       "      <th>15094</th>\n",
       "      <td>5d267b</td>\n",
       "      <td>2</td>\n",
       "      <td>40</td>\n",
       "      <td>1</td>\n",
       "      <td>t</td>\n",
       "      <td>93620b</td>\n",
       "      <td>2021-03-01 07:11:24.662400</td>\n",
       "      <td>White Tee Shirt - Mens</td>\n",
       "      <td>2</td>\n",
       "      <td>5</td>\n",
       "      <td>13</td>\n",
       "      <td>Mens</td>\n",
       "      <td>Shirt</td>\n",
       "      <td>White Tee</td>\n",
       "    </tr>\n",
       "  </tbody>\n",
       "</table>\n",
       "<p>15095 rows × 14 columns</p>\n",
       "</div>"
      ],
      "text/plain": [
       "      prod_id  qty  price_x  discount member  txn_id  \\\n",
       "0      c4a632    4       13        17      t  54f307   \n",
       "1      5d267b    4       40        17      t  54f307   \n",
       "2      b9a74d    4       17        17      t  54f307   \n",
       "3      2feb6b    2       29        17      t  54f307   \n",
       "4      c4a632    5       13        21      t  26cc98   \n",
       "...       ...  ...      ...       ...    ...     ...   \n",
       "15090  9ec847    1       54        13      t  f15ab3   \n",
       "15091  2a2353    3       57        13      t  f15ab3   \n",
       "15092  e83aa3    5       32         1      t  93620b   \n",
       "15093  d5e9a6    2       23         1      t  93620b   \n",
       "15094  5d267b    2       40         1      t  93620b   \n",
       "\n",
       "                  start_txn_time                      product_name  \\\n",
       "0     2021-02-13 01:59:43.296000     Navy Oversized Jeans - Womens   \n",
       "1     2021-02-13 01:59:43.296000            White Tee Shirt - Mens   \n",
       "2     2021-02-13 01:59:43.296000        White Striped Socks - Mens   \n",
       "3     2021-02-13 01:59:43.296000  Pink Fluro Polkadot Socks - Mens   \n",
       "4     2021-01-19 01:39:00.345600     Navy Oversized Jeans - Womens   \n",
       "...                          ...                               ...   \n",
       "15090 2021-03-20 12:01:22.944000      Grey Fashion Jacket - Womens   \n",
       "15091 2021-03-20 12:01:22.944000            Blue Polo Shirt - Mens   \n",
       "15092 2021-03-01 07:11:24.662400     Black Straight Jeans - Womens   \n",
       "15093 2021-03-01 07:11:24.662400        Khaki Suit Jacket - Womens   \n",
       "15094 2021-03-01 07:11:24.662400            White Tee Shirt - Mens   \n",
       "\n",
       "       category_id  segment_id  style_id category_name segment_name  \\\n",
       "0                1           3         7        Womens        Jeans   \n",
       "1                2           5        13          Mens        Shirt   \n",
       "2                2           6        17          Mens        Socks   \n",
       "3                2           6        18          Mens        Socks   \n",
       "4                1           3         7        Womens        Jeans   \n",
       "...            ...         ...       ...           ...          ...   \n",
       "15090            1           4        12        Womens       Jacket   \n",
       "15091            2           5        15          Mens        Shirt   \n",
       "15092            1           3         8        Womens        Jeans   \n",
       "15093            1           4        10        Womens       Jacket   \n",
       "15094            2           5        13          Mens        Shirt   \n",
       "\n",
       "                style_name  \n",
       "0           Navy Oversized  \n",
       "1                White Tee  \n",
       "2            White Striped  \n",
       "3      Pink Fluro Polkadot  \n",
       "4           Navy Oversized  \n",
       "...                    ...  \n",
       "15090         Grey Fashion  \n",
       "15091            Blue Polo  \n",
       "15092       Black Straight  \n",
       "15093           Khaki Suit  \n",
       "15094            White Tee  \n",
       "\n",
       "[15095 rows x 14 columns]"
      ]
     },
     "execution_count": 22,
     "metadata": {},
     "output_type": "execute_result"
    }
   ],
   "source": [
    "merged_df = merged_df.drop(['product_id', 'price_y'], axis=1)\n",
    "merged_df"
   ]
  },
  {
   "cell_type": "code",
   "execution_count": 23,
   "id": "29e4ec58",
   "metadata": {},
   "outputs": [
    {
     "data": {
      "text/plain": [
       "Text(0.5, 1.0, 'Mens')"
      ]
     },
     "execution_count": 23,
     "metadata": {},
     "output_type": "execute_result"
    },
    {
     "data": {
      "image/png": "[encoded data removed]",
      "text/plain": [
       "<Figure size 640x480 with 1 Axes>"
      ]
     },
     "metadata": {},
     "output_type": "display_data"
    }
   ],
   "source": [
    "sub = merged_df[merged_df['category_name'] == 'Mens']\n",
    "sns.kdeplot(data=sub[['price_x', 'txn_id']], shade=True, shade_lowest=False)\n",
    "plt.title('Mens')"
   ]
  },
  {
   "cell_type": "code",
   "execution_count": 24,
   "id": "aaa1ce18",
   "metadata": {},
   "outputs": [
    {
     "data": {
      "image/png": "[encoded data removed]",
      "text/plain": [
       "<Figure size 1000x700 with 2 Axes>"
      ]
     },
     "metadata": {},
     "output_type": "display_data"
    }
   ],
   "source": [
    "numeric_df = merged_df.select_dtypes(include=['float64', 'int64'])\n",
    "\n",
    "fig = plt.gcf()\n",
    "fig.set_size_inches(10, 7)\n",
    "fig = sns.heatmap(numeric_df.corr(), annot=True, cmap='cubehelix', linewidths=1, linecolor='k', square=True, mask=False, vmin=-1, vmax=1, cbar_kws={\"orientation\": \"vertical\"}, cbar=True)"
   ]
  },
  {
   "cell_type": "code",
   "execution_count": 25,
   "id": "42c630bd",
   "metadata": {},
   "outputs": [],
   "source": [
    "merged_df['revenue_before_discount'] = merged_df['qty'] * merged_df['price_x']"
   ]
  },
  {
   "cell_type": "code",
   "execution_count": 26,
   "id": "ab0c347e",
   "metadata": {},
   "outputs": [
    {
     "data": {
      "text/plain": [
       "1289453"
      ]
     },
     "execution_count": 26,
     "metadata": {},
     "output_type": "execute_result"
    }
   ],
   "source": [
    "total_revenue_before_discount = merged_df['revenue_before_discount'].sum()\n",
    "total_revenue_before_discount"
   ]
  },
  {
   "cell_type": "markdown",
   "id": "fb4abfc5",
   "metadata": {},
   "source": [
    "### What was the total discount amount for all products?\n"
   ]
  },
  {
   "cell_type": "code",
   "execution_count": 27,
   "id": "0dc8f687",
   "metadata": {},
   "outputs": [
    {
     "data": {
      "text/plain": [
       "182700"
      ]
     },
     "execution_count": 27,
     "metadata": {},
     "output_type": "execute_result"
    }
   ],
   "source": [
    "sales['discount'].sum()\n"
   ]
  },
  {
   "cell_type": "markdown",
   "id": "01dfc549",
   "metadata": {},
   "source": [
    "### How many unique transactions were there?\n"
   ]
  },
  {
   "cell_type": "code",
   "execution_count": 28,
   "id": "5caace46",
   "metadata": {},
   "outputs": [
    {
     "data": {
      "text/plain": [
       "2500"
      ]
     },
     "execution_count": 28,
     "metadata": {},
     "output_type": "execute_result"
    }
   ],
   "source": [
    "sales['txn_id'].nunique()"
   ]
  },
  {
   "cell_type": "markdown",
   "id": "2cae919c",
   "metadata": {},
   "source": [
    "### What is the average unique products purchased in each transaction?\n"
   ]
  },
  {
   "cell_type": "code",
   "execution_count": 29,
   "id": "b766b1cb",
   "metadata": {},
   "outputs": [
    {
     "data": {
      "text/plain": [
       "6.038"
      ]
     },
     "execution_count": 29,
     "metadata": {},
     "output_type": "execute_result"
    }
   ],
   "source": [
    "unique_products_per_transaction = sales.groupby('txn_id')['prod_id'].nunique()\n",
    "a = unique_products_per_transaction.mean()\n",
    "a"
   ]
  },
  {
   "cell_type": "markdown",
   "id": "8331b046",
   "metadata": {},
   "source": [
    "#### What are the 25th, 50th and 75th percentile values for the revenue per transaction?\n"
   ]
  },
  {
   "cell_type": "code",
   "execution_count": 30,
   "id": "2c10fbd4",
   "metadata": {},
   "outputs": [
    {
     "name": "stdout",
     "output_type": "stream",
     "text": [
      "25th Percentile Value for Revenue per Transaction: 375.75\n",
      "50th Percentile Value for Revenue per Transaction: 509.5\n",
      "75th Percentile Value for Revenue per Transaction: 647.0\n"
     ]
    }
   ],
   "source": [
    "r = merged_df.groupby('txn_id')['revenue_before_discount'].sum().reset_index()\n",
    "percentiles = [25, 50, 75]\n",
    "percentile_values = r['revenue_before_discount'].quantile(q=[p/100 for p in percentiles])\n",
    "\n",
    "for i, percentile in enumerate(percentiles):\n",
    "    print(f\"{percentile}th Percentile Value for Revenue per Transaction:\", percentile_values.iloc[i])"
   ]
  },
  {
   "cell_type": "markdown",
   "id": "9905fc45",
   "metadata": {},
   "source": [
    "## What is the average discount value per transaction?\n"
   ]
  },
  {
   "cell_type": "code",
   "execution_count": 31,
   "id": "5b1fc7e8",
   "metadata": {},
   "outputs": [
    {
     "data": {
      "text/plain": [
       "12.10334547863531"
      ]
     },
     "execution_count": 31,
     "metadata": {},
     "output_type": "execute_result"
    }
   ],
   "source": [
    "sales['discount'].mean()"
   ]
  },
  {
   "cell_type": "markdown",
   "id": "8457fb86",
   "metadata": {},
   "source": [
    "### What is the percentage split of all transactions for members vs non-members?"
   ]
  },
  {
   "cell_type": "code",
   "execution_count": 32,
   "id": "b86c9b1f",
   "metadata": {},
   "outputs": [],
   "source": [
    "tfm=sales['member'].value_counts()"
   ]
  },
  {
   "cell_type": "code",
   "execution_count": 33,
   "id": "cdfcddf1",
   "metadata": {},
   "outputs": [],
   "source": [
    "per_members = (tfm['t'] / tfm.sum()) * 100\n",
    "per_non_members = (tfm['f'] / tfm.sum()) * 100\n"
   ]
  },
  {
   "cell_type": "code",
   "execution_count": 34,
   "id": "4e815244",
   "metadata": {},
   "outputs": [
    {
     "data": {
      "text/plain": [
       "60.02649884067572"
      ]
     },
     "execution_count": 34,
     "metadata": {},
     "output_type": "execute_result"
    }
   ],
   "source": [
    "per_members"
   ]
  },
  {
   "cell_type": "code",
   "execution_count": 35,
   "id": "a80acfb2",
   "metadata": {},
   "outputs": [
    {
     "data": {
      "text/plain": [
       "39.97350115932428"
      ]
     },
     "execution_count": 35,
     "metadata": {},
     "output_type": "execute_result"
    }
   ],
   "source": [
    "per_non_members"
   ]
  },
  {
   "cell_type": "markdown",
   "id": "d71e3570",
   "metadata": {},
   "source": [
    "### What is the average revenue for member transactions and non-member transactions?\n"
   ]
  },
  {
   "cell_type": "code",
   "execution_count": 36,
   "id": "3b9a3ba3",
   "metadata": {},
   "outputs": [
    {
     "name": "stdout",
     "output_type": "stream",
     "text": [
      "Average Revenue for Member Transactions: 85.75035868005739\n",
      "Average Revenue for Non-Member Transactions: 84.9302287040106\n"
     ]
    }
   ],
   "source": [
    "avg_revenue = merged_df.groupby('member')['revenue_before_discount'].mean()\n",
    "\n",
    "print(\"Average Revenue for Member Transactions:\", avg_revenue['t'])\n",
    "print(\"Average Revenue for Non-Member Transactions:\", avg_revenue['f'])\n"
   ]
  },
  {
   "cell_type": "markdown",
   "id": "b258605e",
   "metadata": {},
   "source": [
    "# Product Analysis\n"
   ]
  },
  {
   "cell_type": "markdown",
   "id": "f1febb7c",
   "metadata": {},
   "source": [
    "### What are the top 3 products by total revenue before discount?"
   ]
  },
  {
   "cell_type": "code",
   "execution_count": 37,
   "id": "aaa56e0f",
   "metadata": {},
   "outputs": [
    {
     "data": {
      "text/plain": [
       "prod_id\n",
       "2a2353    217683\n",
       "9ec847    209304\n",
       "5d267b    152000\n",
       "Name: revenue_before_discount, dtype: int64"
      ]
     },
     "execution_count": 37,
     "metadata": {},
     "output_type": "execute_result"
    }
   ],
   "source": [
    "x= merged_df.groupby('prod_id')['revenue_before_discount'].sum()\n",
    "\n",
    "a= x.sort_values(ascending=False).head(3)\n",
    "\n",
    "a\n"
   ]
  },
  {
   "cell_type": "code",
   "execution_count": 38,
   "id": "38eb3ade",
   "metadata": {},
   "outputs": [
    {
     "data": {
      "image/png": "[encoded data removed]",
      "text/plain": [
       "<Figure size 640x480 with 1 Axes>"
      ]
     },
     "metadata": {},
     "output_type": "display_data"
    }
   ],
   "source": [
    "sns.barplot(x=a.index, y=a.values, palette='viridis')\n",
    "plt.title('Top 3 Products by Revenue Before Discount')\n",
    "plt.xlabel('Product ID')\n",
    "plt.ylabel('Total Revenue Before Discount')\n",
    "plt.show()"
   ]
  },
  {
   "cell_type": "markdown",
   "id": "651e0c22",
   "metadata": {},
   "source": [
    "### What is the total quantity, revenue and discount for each segment?"
   ]
  },
  {
   "cell_type": "code",
   "execution_count": null,
   "id": "ec219731",
   "metadata": {},
   "outputs": [],
   "source": []
  },
  {
   "cell_type": "code",
   "execution_count": 39,
   "id": "3b455d6b",
   "metadata": {},
   "outputs": [
    {
     "data": {
      "text/html": [
       "<div>\n",
       "<style scoped>\n",
       "    .dataframe tbody tr th:only-of-type {\n",
       "        vertical-align: middle;\n",
       "    }\n",
       "\n",
       "    .dataframe tbody tr th {\n",
       "        vertical-align: top;\n",
       "    }\n",
       "\n",
       "    .dataframe thead th {\n",
       "        text-align: right;\n",
       "    }\n",
       "</style>\n",
       "<table border=\"1\" class=\"dataframe\">\n",
       "  <thead>\n",
       "    <tr style=\"text-align: right;\">\n",
       "      <th></th>\n",
       "      <th>segment_id</th>\n",
       "      <th>segment_name</th>\n",
       "      <th>qty</th>\n",
       "      <th>revenue_before_discount</th>\n",
       "      <th>discount</th>\n",
       "    </tr>\n",
       "  </thead>\n",
       "  <tbody>\n",
       "    <tr>\n",
       "      <th>0</th>\n",
       "      <td>3</td>\n",
       "      <td>Jeans</td>\n",
       "      <td>11349</td>\n",
       "      <td>208350</td>\n",
       "      <td>45740</td>\n",
       "    </tr>\n",
       "    <tr>\n",
       "      <th>1</th>\n",
       "      <td>4</td>\n",
       "      <td>Jacket</td>\n",
       "      <td>11385</td>\n",
       "      <td>366983</td>\n",
       "      <td>45452</td>\n",
       "    </tr>\n",
       "    <tr>\n",
       "      <th>2</th>\n",
       "      <td>5</td>\n",
       "      <td>Shirt</td>\n",
       "      <td>11265</td>\n",
       "      <td>406143</td>\n",
       "      <td>46043</td>\n",
       "    </tr>\n",
       "    <tr>\n",
       "      <th>3</th>\n",
       "      <td>6</td>\n",
       "      <td>Socks</td>\n",
       "      <td>11217</td>\n",
       "      <td>307977</td>\n",
       "      <td>45465</td>\n",
       "    </tr>\n",
       "  </tbody>\n",
       "</table>\n",
       "</div>"
      ],
      "text/plain": [
       "   segment_id segment_name    qty  revenue_before_discount  discount\n",
       "0           3        Jeans  11349                   208350     45740\n",
       "1           4       Jacket  11385                   366983     45452\n",
       "2           5        Shirt  11265                   406143     46043\n",
       "3           6        Socks  11217                   307977     45465"
      ]
     },
     "execution_count": 39,
     "metadata": {},
     "output_type": "execute_result"
    }
   ],
   "source": [
    "merged_df.groupby(['segment_id', 'segment_name']).agg({\n",
    "    'qty': 'sum',\n",
    "    'revenue_before_discount': 'sum',\n",
    "    'discount': 'sum'\n",
    "}).reset_index()\n"
   ]
  },
  {
   "cell_type": "markdown",
   "id": "c648955c",
   "metadata": {},
   "source": [
    "### What is the top selling product for each segment?\n"
   ]
  },
  {
   "cell_type": "code",
   "execution_count": 40,
   "id": "a61cf629",
   "metadata": {},
   "outputs": [],
   "source": [
    "top_selling_products = merged_df.groupby(['segment_id', 'prod_id', 'product_name']).agg({'qty': 'sum'}).reset_index()\n"
   ]
  },
  {
   "cell_type": "code",
   "execution_count": 41,
   "id": "22f12066",
   "metadata": {},
   "outputs": [
    {
     "data": {
      "text/plain": [
       "segment_id\n",
       "3     0\n",
       "4     4\n",
       "5     6\n",
       "6    11\n",
       "Name: qty, dtype: int64"
      ]
     },
     "execution_count": 41,
     "metadata": {},
     "output_type": "execute_result"
    }
   ],
   "source": [
    "top_selling_products.groupby('segment_id')['qty'].idxmax()"
   ]
  },
  {
   "cell_type": "code",
   "execution_count": 42,
   "id": "1f41179d",
   "metadata": {},
   "outputs": [
    {
     "data": {
      "text/html": [
       "<div>\n",
       "<style scoped>\n",
       "    .dataframe tbody tr th:only-of-type {\n",
       "        vertical-align: middle;\n",
       "    }\n",
       "\n",
       "    .dataframe tbody tr th {\n",
       "        vertical-align: top;\n",
       "    }\n",
       "\n",
       "    .dataframe thead th {\n",
       "        text-align: right;\n",
       "    }\n",
       "</style>\n",
       "<table border=\"1\" class=\"dataframe\">\n",
       "  <thead>\n",
       "    <tr style=\"text-align: right;\">\n",
       "      <th></th>\n",
       "      <th>segment_id</th>\n",
       "      <th>prod_id</th>\n",
       "      <th>product_name</th>\n",
       "      <th>qty</th>\n",
       "    </tr>\n",
       "  </thead>\n",
       "  <tbody>\n",
       "    <tr>\n",
       "      <th>0</th>\n",
       "      <td>3</td>\n",
       "      <td>c4a632</td>\n",
       "      <td>Navy Oversized Jeans - Womens</td>\n",
       "      <td>3856</td>\n",
       "    </tr>\n",
       "    <tr>\n",
       "      <th>4</th>\n",
       "      <td>4</td>\n",
       "      <td>9ec847</td>\n",
       "      <td>Grey Fashion Jacket - Womens</td>\n",
       "      <td>3876</td>\n",
       "    </tr>\n",
       "    <tr>\n",
       "      <th>6</th>\n",
       "      <td>5</td>\n",
       "      <td>2a2353</td>\n",
       "      <td>Blue Polo Shirt - Mens</td>\n",
       "      <td>3819</td>\n",
       "    </tr>\n",
       "    <tr>\n",
       "      <th>11</th>\n",
       "      <td>6</td>\n",
       "      <td>f084eb</td>\n",
       "      <td>Navy Solid Socks - Mens</td>\n",
       "      <td>3792</td>\n",
       "    </tr>\n",
       "  </tbody>\n",
       "</table>\n",
       "</div>"
      ],
      "text/plain": [
       "    segment_id prod_id                   product_name   qty\n",
       "0            3  c4a632  Navy Oversized Jeans - Womens  3856\n",
       "4            4  9ec847   Grey Fashion Jacket - Womens  3876\n",
       "6            5  2a2353         Blue Polo Shirt - Mens  3819\n",
       "11           6  f084eb        Navy Solid Socks - Mens  3792"
      ]
     },
     "execution_count": 42,
     "metadata": {},
     "output_type": "execute_result"
    }
   ],
   "source": [
    "top_selling_products.loc[top_selling_products.groupby('segment_id')['qty'].idxmax()]\n"
   ]
  },
  {
   "cell_type": "markdown",
   "id": "fe917364",
   "metadata": {},
   "source": [
    "### What is the total quantity, revenue and discount for each category?\n"
   ]
  },
  {
   "cell_type": "code",
   "execution_count": 43,
   "id": "44a42d8b",
   "metadata": {},
   "outputs": [
    {
     "data": {
      "text/html": [
       "<div>\n",
       "<style scoped>\n",
       "    .dataframe tbody tr th:only-of-type {\n",
       "        vertical-align: middle;\n",
       "    }\n",
       "\n",
       "    .dataframe tbody tr th {\n",
       "        vertical-align: top;\n",
       "    }\n",
       "\n",
       "    .dataframe thead th {\n",
       "        text-align: right;\n",
       "    }\n",
       "</style>\n",
       "<table border=\"1\" class=\"dataframe\">\n",
       "  <thead>\n",
       "    <tr style=\"text-align: right;\">\n",
       "      <th></th>\n",
       "      <th>category_id</th>\n",
       "      <th>category_name</th>\n",
       "      <th>qty</th>\n",
       "      <th>revenue_before_discount</th>\n",
       "      <th>discount</th>\n",
       "    </tr>\n",
       "  </thead>\n",
       "  <tbody>\n",
       "    <tr>\n",
       "      <th>0</th>\n",
       "      <td>1</td>\n",
       "      <td>Womens</td>\n",
       "      <td>22734</td>\n",
       "      <td>575333</td>\n",
       "      <td>91192</td>\n",
       "    </tr>\n",
       "    <tr>\n",
       "      <th>1</th>\n",
       "      <td>2</td>\n",
       "      <td>Mens</td>\n",
       "      <td>22482</td>\n",
       "      <td>714120</td>\n",
       "      <td>91508</td>\n",
       "    </tr>\n",
       "  </tbody>\n",
       "</table>\n",
       "</div>"
      ],
      "text/plain": [
       "   category_id category_name    qty  revenue_before_discount  discount\n",
       "0            1        Womens  22734                   575333     91192\n",
       "1            2          Mens  22482                   714120     91508"
      ]
     },
     "execution_count": 43,
     "metadata": {},
     "output_type": "execute_result"
    }
   ],
   "source": [
    "merged_df.groupby(['category_id', 'category_name']).agg({\n",
    "    'qty': 'sum',\n",
    "    'revenue_before_discount': 'sum',\n",
    "    'discount': 'sum'\n",
    "}).reset_index()\n",
    "\n"
   ]
  },
  {
   "cell_type": "code",
   "execution_count": 44,
   "id": "34362bb2",
   "metadata": {},
   "outputs": [
    {
     "data": {
      "image/png": "[encoded data removed]",
      "text/plain": [
       "<Figure size 1000x700 with 1 Axes>"
      ]
     },
     "metadata": {},
     "output_type": "display_data"
    }
   ],
   "source": [
    "fig=plt.gcf()\n",
    "fig.set_size_inches(10,7)\n",
    "fig=sns.boxenplot(x='category_name',y='discount',data=merged_df)"
   ]
  },
  {
   "cell_type": "markdown",
   "id": "18757f0f",
   "metadata": {},
   "source": [
    "## What is the top selling product for each category?\n"
   ]
  },
  {
   "cell_type": "code",
   "execution_count": 45,
   "id": "f569eb04",
   "metadata": {},
   "outputs": [],
   "source": [
    "top = merged_df.groupby(['category_id', 'prod_id', 'product_name']).agg({\n",
    "    'qty': 'sum'\n",
    "}).reset_index()"
   ]
  },
  {
   "cell_type": "code",
   "execution_count": 46,
   "id": "562f7a03",
   "metadata": {},
   "outputs": [
    {
     "data": {
      "text/plain": [
       "category_id\n",
       "1    1\n",
       "2    6\n",
       "Name: qty, dtype: int64"
      ]
     },
     "execution_count": 46,
     "metadata": {},
     "output_type": "execute_result"
    }
   ],
   "source": [
    "top.groupby('category_id')['qty'].idxmax()"
   ]
  },
  {
   "cell_type": "code",
   "execution_count": 47,
   "id": "1b85b610",
   "metadata": {},
   "outputs": [
    {
     "data": {
      "text/html": [
       "<div>\n",
       "<style scoped>\n",
       "    .dataframe tbody tr th:only-of-type {\n",
       "        vertical-align: middle;\n",
       "    }\n",
       "\n",
       "    .dataframe tbody tr th {\n",
       "        vertical-align: top;\n",
       "    }\n",
       "\n",
       "    .dataframe thead th {\n",
       "        text-align: right;\n",
       "    }\n",
       "</style>\n",
       "<table border=\"1\" class=\"dataframe\">\n",
       "  <thead>\n",
       "    <tr style=\"text-align: right;\">\n",
       "      <th></th>\n",
       "      <th>category_id</th>\n",
       "      <th>prod_id</th>\n",
       "      <th>product_name</th>\n",
       "      <th>qty</th>\n",
       "    </tr>\n",
       "  </thead>\n",
       "  <tbody>\n",
       "    <tr>\n",
       "      <th>1</th>\n",
       "      <td>1</td>\n",
       "      <td>9ec847</td>\n",
       "      <td>Grey Fashion Jacket - Womens</td>\n",
       "      <td>3876</td>\n",
       "    </tr>\n",
       "    <tr>\n",
       "      <th>6</th>\n",
       "      <td>2</td>\n",
       "      <td>2a2353</td>\n",
       "      <td>Blue Polo Shirt - Mens</td>\n",
       "      <td>3819</td>\n",
       "    </tr>\n",
       "  </tbody>\n",
       "</table>\n",
       "</div>"
      ],
      "text/plain": [
       "   category_id prod_id                  product_name   qty\n",
       "1            1  9ec847  Grey Fashion Jacket - Womens  3876\n",
       "6            2  2a2353        Blue Polo Shirt - Mens  3819"
      ]
     },
     "execution_count": 47,
     "metadata": {},
     "output_type": "execute_result"
    }
   ],
   "source": [
    "top.loc[top.groupby('category_id')['qty'].idxmax()]"
   ]
  },
  {
   "cell_type": "markdown",
   "id": "42a71f50",
   "metadata": {},
   "source": [
    "## What is the percentage split of revenue by product for each segment?\n"
   ]
  },
  {
   "cell_type": "code",
   "execution_count": 48,
   "id": "fba056dd",
   "metadata": {},
   "outputs": [],
   "source": [
    "#revenue by product for each segment\n",
    "a=merged_df.groupby(['segment_id', 'prod_id', 'product_name'])['revenue_before_discount'].sum() .reset_index()"
   ]
  },
  {
   "cell_type": "code",
   "execution_count": 49,
   "id": "d58cc84e",
   "metadata": {},
   "outputs": [],
   "source": [
    "#revenue for each segment\n",
    "b=merged_df.groupby('segment_id')['revenue_before_discount'].sum()"
   ]
  },
  {
   "cell_type": "code",
   "execution_count": 50,
   "id": "e981ddd8",
   "metadata": {},
   "outputs": [],
   "source": [
    "x=pd.merge(a, b, on='segment_id', suffixes=('_product', '_total'))"
   ]
  },
  {
   "cell_type": "code",
   "execution_count": 51,
   "id": "9b52d305",
   "metadata": {},
   "outputs": [],
   "source": [
    "x['percentage_split'] = (x['revenue_before_discount_product'] / x['revenue_before_discount_total']) * 100\n"
   ]
  },
  {
   "cell_type": "code",
   "execution_count": 52,
   "id": "d4b81fa5",
   "metadata": {},
   "outputs": [
    {
     "data": {
      "text/html": [
       "<div>\n",
       "<style scoped>\n",
       "    .dataframe tbody tr th:only-of-type {\n",
       "        vertical-align: middle;\n",
       "    }\n",
       "\n",
       "    .dataframe tbody tr th {\n",
       "        vertical-align: top;\n",
       "    }\n",
       "\n",
       "    .dataframe thead th {\n",
       "        text-align: right;\n",
       "    }\n",
       "</style>\n",
       "<table border=\"1\" class=\"dataframe\">\n",
       "  <thead>\n",
       "    <tr style=\"text-align: right;\">\n",
       "      <th></th>\n",
       "      <th>segment_id</th>\n",
       "      <th>prod_id</th>\n",
       "      <th>product_name</th>\n",
       "      <th>revenue_before_discount_product</th>\n",
       "      <th>revenue_before_discount_total</th>\n",
       "      <th>percentage_split</th>\n",
       "    </tr>\n",
       "  </thead>\n",
       "  <tbody>\n",
       "    <tr>\n",
       "      <th>0</th>\n",
       "      <td>3</td>\n",
       "      <td>c4a632</td>\n",
       "      <td>Navy Oversized Jeans - Womens</td>\n",
       "      <td>50128</td>\n",
       "      <td>208350</td>\n",
       "      <td>24.059515</td>\n",
       "    </tr>\n",
       "    <tr>\n",
       "      <th>1</th>\n",
       "      <td>3</td>\n",
       "      <td>e31d39</td>\n",
       "      <td>Cream Relaxed Jeans - Womens</td>\n",
       "      <td>37070</td>\n",
       "      <td>208350</td>\n",
       "      <td>17.792177</td>\n",
       "    </tr>\n",
       "    <tr>\n",
       "      <th>2</th>\n",
       "      <td>3</td>\n",
       "      <td>e83aa3</td>\n",
       "      <td>Black Straight Jeans - Womens</td>\n",
       "      <td>121152</td>\n",
       "      <td>208350</td>\n",
       "      <td>58.148308</td>\n",
       "    </tr>\n",
       "    <tr>\n",
       "      <th>3</th>\n",
       "      <td>4</td>\n",
       "      <td>72f5d4</td>\n",
       "      <td>Indigo Rain Jacket - Womens</td>\n",
       "      <td>71383</td>\n",
       "      <td>366983</td>\n",
       "      <td>19.451310</td>\n",
       "    </tr>\n",
       "    <tr>\n",
       "      <th>4</th>\n",
       "      <td>4</td>\n",
       "      <td>9ec847</td>\n",
       "      <td>Grey Fashion Jacket - Womens</td>\n",
       "      <td>209304</td>\n",
       "      <td>366983</td>\n",
       "      <td>57.033705</td>\n",
       "    </tr>\n",
       "    <tr>\n",
       "      <th>5</th>\n",
       "      <td>4</td>\n",
       "      <td>d5e9a6</td>\n",
       "      <td>Khaki Suit Jacket - Womens</td>\n",
       "      <td>86296</td>\n",
       "      <td>366983</td>\n",
       "      <td>23.514986</td>\n",
       "    </tr>\n",
       "    <tr>\n",
       "      <th>6</th>\n",
       "      <td>5</td>\n",
       "      <td>2a2353</td>\n",
       "      <td>Blue Polo Shirt - Mens</td>\n",
       "      <td>217683</td>\n",
       "      <td>406143</td>\n",
       "      <td>53.597624</td>\n",
       "    </tr>\n",
       "    <tr>\n",
       "      <th>7</th>\n",
       "      <td>5</td>\n",
       "      <td>5d267b</td>\n",
       "      <td>White Tee Shirt - Mens</td>\n",
       "      <td>152000</td>\n",
       "      <td>406143</td>\n",
       "      <td>37.425242</td>\n",
       "    </tr>\n",
       "    <tr>\n",
       "      <th>8</th>\n",
       "      <td>5</td>\n",
       "      <td>c8d436</td>\n",
       "      <td>Teal Button Up Shirt - Mens</td>\n",
       "      <td>36460</td>\n",
       "      <td>406143</td>\n",
       "      <td>8.977134</td>\n",
       "    </tr>\n",
       "    <tr>\n",
       "      <th>9</th>\n",
       "      <td>6</td>\n",
       "      <td>2feb6b</td>\n",
       "      <td>Pink Fluro Polkadot Socks - Mens</td>\n",
       "      <td>109330</td>\n",
       "      <td>307977</td>\n",
       "      <td>35.499404</td>\n",
       "    </tr>\n",
       "    <tr>\n",
       "      <th>10</th>\n",
       "      <td>6</td>\n",
       "      <td>b9a74d</td>\n",
       "      <td>White Striped Socks - Mens</td>\n",
       "      <td>62135</td>\n",
       "      <td>307977</td>\n",
       "      <td>20.175208</td>\n",
       "    </tr>\n",
       "    <tr>\n",
       "      <th>11</th>\n",
       "      <td>6</td>\n",
       "      <td>f084eb</td>\n",
       "      <td>Navy Solid Socks - Mens</td>\n",
       "      <td>136512</td>\n",
       "      <td>307977</td>\n",
       "      <td>44.325388</td>\n",
       "    </tr>\n",
       "  </tbody>\n",
       "</table>\n",
       "</div>"
      ],
      "text/plain": [
       "    segment_id prod_id                      product_name  \\\n",
       "0            3  c4a632     Navy Oversized Jeans - Womens   \n",
       "1            3  e31d39      Cream Relaxed Jeans - Womens   \n",
       "2            3  e83aa3     Black Straight Jeans - Womens   \n",
       "3            4  72f5d4       Indigo Rain Jacket - Womens   \n",
       "4            4  9ec847      Grey Fashion Jacket - Womens   \n",
       "5            4  d5e9a6        Khaki Suit Jacket - Womens   \n",
       "6            5  2a2353            Blue Polo Shirt - Mens   \n",
       "7            5  5d267b            White Tee Shirt - Mens   \n",
       "8            5  c8d436       Teal Button Up Shirt - Mens   \n",
       "9            6  2feb6b  Pink Fluro Polkadot Socks - Mens   \n",
       "10           6  b9a74d        White Striped Socks - Mens   \n",
       "11           6  f084eb           Navy Solid Socks - Mens   \n",
       "\n",
       "    revenue_before_discount_product  revenue_before_discount_total  \\\n",
       "0                             50128                         208350   \n",
       "1                             37070                         208350   \n",
       "2                            121152                         208350   \n",
       "3                             71383                         366983   \n",
       "4                            209304                         366983   \n",
       "5                             86296                         366983   \n",
       "6                            217683                         406143   \n",
       "7                            152000                         406143   \n",
       "8                             36460                         406143   \n",
       "9                            109330                         307977   \n",
       "10                            62135                         307977   \n",
       "11                           136512                         307977   \n",
       "\n",
       "    percentage_split  \n",
       "0          24.059515  \n",
       "1          17.792177  \n",
       "2          58.148308  \n",
       "3          19.451310  \n",
       "4          57.033705  \n",
       "5          23.514986  \n",
       "6          53.597624  \n",
       "7          37.425242  \n",
       "8           8.977134  \n",
       "9          35.499404  \n",
       "10         20.175208  \n",
       "11         44.325388  "
      ]
     },
     "execution_count": 52,
     "metadata": {},
     "output_type": "execute_result"
    }
   ],
   "source": [
    "x"
   ]
  },
  {
   "cell_type": "markdown",
   "id": "a5fc8c03",
   "metadata": {},
   "source": [
    "## What is the percentage split of revenue by segment for each category?"
   ]
  },
  {
   "cell_type": "code",
   "execution_count": 53,
   "id": "75cd8f1f",
   "metadata": {},
   "outputs": [],
   "source": [
    "#revenue by segment for each category\n",
    "a=merged_df.groupby(['category_id', 'segment_id', 'segment_name']).agg({\n",
    "    'revenue_before_discount': 'sum'\n",
    "}).reset_index()"
   ]
  },
  {
   "cell_type": "code",
   "execution_count": 54,
   "id": "3d17e64e",
   "metadata": {},
   "outputs": [],
   "source": [
    "#total_revenue_by_category \n",
    "b= merged_df.groupby('category_id')['revenue_before_discount'].sum()\n"
   ]
  },
  {
   "cell_type": "code",
   "execution_count": 55,
   "id": "66b83d80",
   "metadata": {},
   "outputs": [],
   "source": [
    "x = pd.merge(a, b, on='category_id', suffixes=('_segment', '_total'))"
   ]
  },
  {
   "cell_type": "code",
   "execution_count": 56,
   "id": "20e11b44",
   "metadata": {},
   "outputs": [],
   "source": [
    "x['percentage_split'] = (x['revenue_before_discount_segment'] / x['revenue_before_discount_total']) * 100\n"
   ]
  },
  {
   "cell_type": "code",
   "execution_count": 57,
   "id": "93c71e4c",
   "metadata": {},
   "outputs": [
    {
     "data": {
      "text/html": [
       "<div>\n",
       "<style scoped>\n",
       "    .dataframe tbody tr th:only-of-type {\n",
       "        vertical-align: middle;\n",
       "    }\n",
       "\n",
       "    .dataframe tbody tr th {\n",
       "        vertical-align: top;\n",
       "    }\n",
       "\n",
       "    .dataframe thead th {\n",
       "        text-align: right;\n",
       "    }\n",
       "</style>\n",
       "<table border=\"1\" class=\"dataframe\">\n",
       "  <thead>\n",
       "    <tr style=\"text-align: right;\">\n",
       "      <th></th>\n",
       "      <th>category_id</th>\n",
       "      <th>segment_id</th>\n",
       "      <th>segment_name</th>\n",
       "      <th>revenue_before_discount_segment</th>\n",
       "      <th>revenue_before_discount_total</th>\n",
       "      <th>percentage_split</th>\n",
       "    </tr>\n",
       "  </thead>\n",
       "  <tbody>\n",
       "    <tr>\n",
       "      <th>0</th>\n",
       "      <td>1</td>\n",
       "      <td>3</td>\n",
       "      <td>Jeans</td>\n",
       "      <td>208350</td>\n",
       "      <td>575333</td>\n",
       "      <td>36.213810</td>\n",
       "    </tr>\n",
       "    <tr>\n",
       "      <th>1</th>\n",
       "      <td>1</td>\n",
       "      <td>4</td>\n",
       "      <td>Jacket</td>\n",
       "      <td>366983</td>\n",
       "      <td>575333</td>\n",
       "      <td>63.786190</td>\n",
       "    </tr>\n",
       "    <tr>\n",
       "      <th>2</th>\n",
       "      <td>2</td>\n",
       "      <td>5</td>\n",
       "      <td>Shirt</td>\n",
       "      <td>406143</td>\n",
       "      <td>714120</td>\n",
       "      <td>56.873215</td>\n",
       "    </tr>\n",
       "    <tr>\n",
       "      <th>3</th>\n",
       "      <td>2</td>\n",
       "      <td>6</td>\n",
       "      <td>Socks</td>\n",
       "      <td>307977</td>\n",
       "      <td>714120</td>\n",
       "      <td>43.126785</td>\n",
       "    </tr>\n",
       "  </tbody>\n",
       "</table>\n",
       "</div>"
      ],
      "text/plain": [
       "   category_id  segment_id segment_name  revenue_before_discount_segment  \\\n",
       "0            1           3        Jeans                           208350   \n",
       "1            1           4       Jacket                           366983   \n",
       "2            2           5        Shirt                           406143   \n",
       "3            2           6        Socks                           307977   \n",
       "\n",
       "   revenue_before_discount_total  percentage_split  \n",
       "0                         575333         36.213810  \n",
       "1                         575333         63.786190  \n",
       "2                         714120         56.873215  \n",
       "3                         714120         43.126785  "
      ]
     },
     "execution_count": 57,
     "metadata": {},
     "output_type": "execute_result"
    }
   ],
   "source": [
    "x"
   ]
  },
  {
   "cell_type": "markdown",
   "id": "ff5244b4",
   "metadata": {},
   "source": [
    "## What is the percentage split of total revenue by category?\n"
   ]
  },
  {
   "cell_type": "code",
   "execution_count": 58,
   "id": "d3d70b36",
   "metadata": {},
   "outputs": [
    {
     "data": {
      "text/html": [
       "<div>\n",
       "<style scoped>\n",
       "    .dataframe tbody tr th:only-of-type {\n",
       "        vertical-align: middle;\n",
       "    }\n",
       "\n",
       "    .dataframe tbody tr th {\n",
       "        vertical-align: top;\n",
       "    }\n",
       "\n",
       "    .dataframe thead th {\n",
       "        text-align: right;\n",
       "    }\n",
       "</style>\n",
       "<table border=\"1\" class=\"dataframe\">\n",
       "  <thead>\n",
       "    <tr style=\"text-align: right;\">\n",
       "      <th></th>\n",
       "      <th>category_id</th>\n",
       "      <th>category_name</th>\n",
       "      <th>percentage_split</th>\n",
       "    </tr>\n",
       "    <tr>\n",
       "      <th>category_id</th>\n",
       "      <th></th>\n",
       "      <th></th>\n",
       "      <th></th>\n",
       "    </tr>\n",
       "  </thead>\n",
       "  <tbody>\n",
       "    <tr>\n",
       "      <th>1</th>\n",
       "      <td>1</td>\n",
       "      <td>Womens</td>\n",
       "      <td>44.618377</td>\n",
       "    </tr>\n",
       "    <tr>\n",
       "      <th>2</th>\n",
       "      <td>2</td>\n",
       "      <td>Mens</td>\n",
       "      <td>55.381623</td>\n",
       "    </tr>\n",
       "  </tbody>\n",
       "</table>\n",
       "</div>"
      ],
      "text/plain": [
       "             category_id category_name  percentage_split\n",
       "category_id                                             \n",
       "1                      1        Womens         44.618377\n",
       "2                      2          Mens         55.381623"
      ]
     },
     "execution_count": 58,
     "metadata": {},
     "output_type": "execute_result"
    }
   ],
   "source": [
    "a= merged_df.groupby('category_id')['revenue_before_discount'].sum()\n",
    "\n",
    "\n",
    "percentage_split= (a/a.sum()) * 100\n",
    "\n",
    "\n",
    "pd.DataFrame({\n",
    "    'category_id': a.index,\n",
    "    'category_name': [merged_df.loc[merged_df['category_id'] == cat_id, 'category_name'].iloc[0] for cat_id in a.index],\n",
    "    'percentage_split': percentage_split\n",
    "})\n",
    "\n"
   ]
  },
  {
   "cell_type": "markdown",
   "id": "82752ecb",
   "metadata": {},
   "source": [
    "## What is the total transaction “penetration” for each product? (hint: penetration = number of transactions where at least one quantity of a product was purchased divided by total number of transactions)\n"
   ]
  },
  {
   "cell_type": "code",
   "execution_count": 59,
   "id": "bc2a46cd",
   "metadata": {},
   "outputs": [],
   "source": [
    "transactions_with_product = merged_df[merged_df['qty'] > 0].groupby('prod_id')['txn_id'].nunique().reset_index()\n",
    "total_transactions = merged_df['txn_id'].nunique()\n",
    "\n",
    "penetration_data = pd.merge(transactions_with_product, merged_df[['prod_id', 'product_name']], on='prod_id')\n",
    "penetration_data['penetration'] = (penetration_data['txn_id'] / total_transactions) * 100\n"
   ]
  },
  {
   "cell_type": "code",
   "execution_count": 60,
   "id": "e03cb176",
   "metadata": {},
   "outputs": [
    {
     "data": {
      "text/html": [
       "<div>\n",
       "<style scoped>\n",
       "    .dataframe tbody tr th:only-of-type {\n",
       "        vertical-align: middle;\n",
       "    }\n",
       "\n",
       "    .dataframe tbody tr th {\n",
       "        vertical-align: top;\n",
       "    }\n",
       "\n",
       "    .dataframe thead th {\n",
       "        text-align: right;\n",
       "    }\n",
       "</style>\n",
       "<table border=\"1\" class=\"dataframe\">\n",
       "  <thead>\n",
       "    <tr style=\"text-align: right;\">\n",
       "      <th></th>\n",
       "      <th>prod_id</th>\n",
       "      <th>txn_id</th>\n",
       "      <th>product_name</th>\n",
       "      <th>penetration</th>\n",
       "    </tr>\n",
       "  </thead>\n",
       "  <tbody>\n",
       "    <tr>\n",
       "      <th>0</th>\n",
       "      <td>2a2353</td>\n",
       "      <td>1268</td>\n",
       "      <td>Blue Polo Shirt - Mens</td>\n",
       "      <td>50.72</td>\n",
       "    </tr>\n",
       "    <tr>\n",
       "      <th>1</th>\n",
       "      <td>2a2353</td>\n",
       "      <td>1268</td>\n",
       "      <td>Blue Polo Shirt - Mens</td>\n",
       "      <td>50.72</td>\n",
       "    </tr>\n",
       "    <tr>\n",
       "      <th>2</th>\n",
       "      <td>2a2353</td>\n",
       "      <td>1268</td>\n",
       "      <td>Blue Polo Shirt - Mens</td>\n",
       "      <td>50.72</td>\n",
       "    </tr>\n",
       "    <tr>\n",
       "      <th>3</th>\n",
       "      <td>2a2353</td>\n",
       "      <td>1268</td>\n",
       "      <td>Blue Polo Shirt - Mens</td>\n",
       "      <td>50.72</td>\n",
       "    </tr>\n",
       "    <tr>\n",
       "      <th>4</th>\n",
       "      <td>2a2353</td>\n",
       "      <td>1268</td>\n",
       "      <td>Blue Polo Shirt - Mens</td>\n",
       "      <td>50.72</td>\n",
       "    </tr>\n",
       "    <tr>\n",
       "      <th>...</th>\n",
       "      <td>...</td>\n",
       "      <td>...</td>\n",
       "      <td>...</td>\n",
       "      <td>...</td>\n",
       "    </tr>\n",
       "    <tr>\n",
       "      <th>15090</th>\n",
       "      <td>f084eb</td>\n",
       "      <td>1281</td>\n",
       "      <td>Navy Solid Socks - Mens</td>\n",
       "      <td>51.24</td>\n",
       "    </tr>\n",
       "    <tr>\n",
       "      <th>15091</th>\n",
       "      <td>f084eb</td>\n",
       "      <td>1281</td>\n",
       "      <td>Navy Solid Socks - Mens</td>\n",
       "      <td>51.24</td>\n",
       "    </tr>\n",
       "    <tr>\n",
       "      <th>15092</th>\n",
       "      <td>f084eb</td>\n",
       "      <td>1281</td>\n",
       "      <td>Navy Solid Socks - Mens</td>\n",
       "      <td>51.24</td>\n",
       "    </tr>\n",
       "    <tr>\n",
       "      <th>15093</th>\n",
       "      <td>f084eb</td>\n",
       "      <td>1281</td>\n",
       "      <td>Navy Solid Socks - Mens</td>\n",
       "      <td>51.24</td>\n",
       "    </tr>\n",
       "    <tr>\n",
       "      <th>15094</th>\n",
       "      <td>f084eb</td>\n",
       "      <td>1281</td>\n",
       "      <td>Navy Solid Socks - Mens</td>\n",
       "      <td>51.24</td>\n",
       "    </tr>\n",
       "  </tbody>\n",
       "</table>\n",
       "<p>15095 rows × 4 columns</p>\n",
       "</div>"
      ],
      "text/plain": [
       "      prod_id  txn_id             product_name  penetration\n",
       "0      2a2353    1268   Blue Polo Shirt - Mens        50.72\n",
       "1      2a2353    1268   Blue Polo Shirt - Mens        50.72\n",
       "2      2a2353    1268   Blue Polo Shirt - Mens        50.72\n",
       "3      2a2353    1268   Blue Polo Shirt - Mens        50.72\n",
       "4      2a2353    1268   Blue Polo Shirt - Mens        50.72\n",
       "...       ...     ...                      ...          ...\n",
       "15090  f084eb    1281  Navy Solid Socks - Mens        51.24\n",
       "15091  f084eb    1281  Navy Solid Socks - Mens        51.24\n",
       "15092  f084eb    1281  Navy Solid Socks - Mens        51.24\n",
       "15093  f084eb    1281  Navy Solid Socks - Mens        51.24\n",
       "15094  f084eb    1281  Navy Solid Socks - Mens        51.24\n",
       "\n",
       "[15095 rows x 4 columns]"
      ]
     },
     "execution_count": 60,
     "metadata": {},
     "output_type": "execute_result"
    }
   ],
   "source": [
    "penetration_data"
   ]
  },
  {
   "cell_type": "markdown",
   "id": "5a81cffd",
   "metadata": {},
   "source": [
    "## What is the most common combination of at least 1 quantity of any 3 products in a single transaction?\n"
   ]
  },
  {
   "cell_type": "code",
   "execution_count": null,
   "id": "7ffecbf8",
   "metadata": {},
   "outputs": [],
   "source": []
  },
  {
   "cell_type": "code",
   "execution_count": null,
   "id": "c5af43b3",
   "metadata": {},
   "outputs": [],
   "source": []
  },
  {
   "cell_type": "code",
   "execution_count": 75,
   "id": "6e01637c",
   "metadata": {},
   "outputs": [
    {
     "data": {
      "image/png": "[encoded data removed]",
      "text/plain": [
       "<Figure size 640x480 with 2 Axes>"
      ]
     },
     "metadata": {},
     "output_type": "display_data"
    }
   ],
   "source": [
    "columns_for_heatmap = ['price_x', 'discount']\n",
    "\n",
    "a = merged_df[columns_for_heatmap]\n",
    "\n",
    "correlation_matrix = a.corr()\n",
    "\n",
    "sns.heatmap(correlation_matrix, annot=True, cmap='coolwarm', fmt=\".2f\", linewidths=0.5)\n",
    "plt.title('Correlation Heatmap: Price_x vs. Discount')\n",
    "plt.show()"
   ]
  },
  {
   "cell_type": "code",
   "execution_count": 61,
   "id": "313668ff",
   "metadata": {},
   "outputs": [
    {
     "data": {
      "text/plain": [
       "Index(['product_id', 'price', 'product_name', 'category_id', 'segment_id',\n",
       "       'style_id', 'category_name', 'segment_name', 'style_name'],\n",
       "      dtype='object')"
      ]
     },
     "execution_count": 61,
     "metadata": {},
     "output_type": "execute_result"
    }
   ],
   "source": [
    "product_details.columns"
   ]
  },
  {
   "cell_type": "code",
   "execution_count": 62,
   "id": "4b637f8a",
   "metadata": {},
   "outputs": [
    {
     "data": {
      "text/html": [
       "<div>\n",
       "<style scoped>\n",
       "    .dataframe tbody tr th:only-of-type {\n",
       "        vertical-align: middle;\n",
       "    }\n",
       "\n",
       "    .dataframe tbody tr th {\n",
       "        vertical-align: top;\n",
       "    }\n",
       "\n",
       "    .dataframe thead th {\n",
       "        text-align: right;\n",
       "    }\n",
       "</style>\n",
       "<table border=\"1\" class=\"dataframe\">\n",
       "  <thead>\n",
       "    <tr style=\"text-align: right;\">\n",
       "      <th></th>\n",
       "      <th>price</th>\n",
       "      <th>category_id</th>\n",
       "      <th>segment_id</th>\n",
       "      <th>style_id</th>\n",
       "    </tr>\n",
       "  </thead>\n",
       "  <tbody>\n",
       "    <tr>\n",
       "      <th>count</th>\n",
       "      <td>12.000000</td>\n",
       "      <td>12.000000</td>\n",
       "      <td>12.000000</td>\n",
       "      <td>12.000000</td>\n",
       "    </tr>\n",
       "    <tr>\n",
       "      <th>mean</th>\n",
       "      <td>28.333333</td>\n",
       "      <td>1.500000</td>\n",
       "      <td>4.500000</td>\n",
       "      <td>12.500000</td>\n",
       "    </tr>\n",
       "    <tr>\n",
       "      <th>std</th>\n",
       "      <td>16.069923</td>\n",
       "      <td>0.522233</td>\n",
       "      <td>1.167748</td>\n",
       "      <td>3.605551</td>\n",
       "    </tr>\n",
       "    <tr>\n",
       "      <th>min</th>\n",
       "      <td>10.000000</td>\n",
       "      <td>1.000000</td>\n",
       "      <td>3.000000</td>\n",
       "      <td>7.000000</td>\n",
       "    </tr>\n",
       "    <tr>\n",
       "      <th>25%</th>\n",
       "      <td>16.000000</td>\n",
       "      <td>1.000000</td>\n",
       "      <td>3.750000</td>\n",
       "      <td>9.750000</td>\n",
       "    </tr>\n",
       "    <tr>\n",
       "      <th>50%</th>\n",
       "      <td>26.000000</td>\n",
       "      <td>1.500000</td>\n",
       "      <td>4.500000</td>\n",
       "      <td>12.500000</td>\n",
       "    </tr>\n",
       "    <tr>\n",
       "      <th>75%</th>\n",
       "      <td>37.000000</td>\n",
       "      <td>2.000000</td>\n",
       "      <td>5.250000</td>\n",
       "      <td>15.250000</td>\n",
       "    </tr>\n",
       "    <tr>\n",
       "      <th>max</th>\n",
       "      <td>57.000000</td>\n",
       "      <td>2.000000</td>\n",
       "      <td>6.000000</td>\n",
       "      <td>18.000000</td>\n",
       "    </tr>\n",
       "  </tbody>\n",
       "</table>\n",
       "</div>"
      ],
      "text/plain": [
       "           price  category_id  segment_id   style_id\n",
       "count  12.000000    12.000000   12.000000  12.000000\n",
       "mean   28.333333     1.500000    4.500000  12.500000\n",
       "std    16.069923     0.522233    1.167748   3.605551\n",
       "min    10.000000     1.000000    3.000000   7.000000\n",
       "25%    16.000000     1.000000    3.750000   9.750000\n",
       "50%    26.000000     1.500000    4.500000  12.500000\n",
       "75%    37.000000     2.000000    5.250000  15.250000\n",
       "max    57.000000     2.000000    6.000000  18.000000"
      ]
     },
     "execution_count": 62,
     "metadata": {},
     "output_type": "execute_result"
    }
   ],
   "source": [
    "product_details.describe()"
   ]
  },
  {
   "cell_type": "code",
   "execution_count": 69,
   "id": "38c51a52",
   "metadata": {},
   "outputs": [
    {
     "data": {
      "text/plain": [
       "Text(0, 0.5, 'Discount')"
      ]
     },
     "execution_count": 69,
     "metadata": {},
     "output_type": "execute_result"
    },
    {
     "data": {
      "image/png": "[encoded data removed]",
      "text/plain": [
       "<Figure size 640x480 with 1 Axes>"
      ]
     },
     "metadata": {},
     "output_type": "display_data"
    }
   ],
   "source": [
    "sns.kdeplot(x='price_x', y='discount', data=merged_df, color='green')\n",
    "plt.title('Kernel Density Plot of Price_x vs. Discount')\n",
    "plt.xlabel('Product Price')  \n",
    "plt.ylabel('Discount') "
   ]
  },
  {
   "cell_type": "code",
   "execution_count": 63,
   "id": "f53c8a8c",
   "metadata": {},
   "outputs": [
    {
     "data": {
      "image/png": "[encoded data removed]",
      "text/plain": [
       "<Figure size 800x600 with 1 Axes>"
      ]
     },
     "metadata": {},
     "output_type": "display_data"
    }
   ],
   "source": [
    "plt.figure(figsize=(8, 6))\n",
    "sns.histplot(product_details['price'], bins=30, kde=True)\n",
    "plt.title('Histogram of Price')\n",
    "plt.xlabel('Price')\n",
    "plt.ylabel('Frequency')\n",
    "plt.show()"
   ]
  },
  {
   "cell_type": "code",
   "execution_count": 64,
   "id": "40dd58d9",
   "metadata": {},
   "outputs": [
    {
     "data": {
      "image/png": "[encoded data removed]",
      "text/plain": [
       "<Figure size 800x600 with 1 Axes>"
      ]
     },
     "metadata": {},
     "output_type": "display_data"
    }
   ],
   "source": [
    "plt.figure(figsize=(8, 6))\n",
    "sns.boxplot(x=product_details['price'])\n",
    "plt.title('Boxplot of Price')\n",
    "plt.xlabel('Price')\n",
    "plt.show()"
   ]
  },
  {
   "cell_type": "code",
   "execution_count": null,
   "id": "31952a36",
   "metadata": {},
   "outputs": [],
   "source": []
  }
 ],
 "metadata": {
  "kernelspec": {
   "display_name": "Python 3 (ipykernel)",
   "language": "python",
   "name": "python3"
  },
  "language_info": {
   "codemirror_mode": {
    "name": "ipython",
    "version": 3
   },
   "file_extension": ".py",
   "mimetype": "text/x-python",
   "name": "python",
   "nbconvert_exporter": "python",
   "pygments_lexer": "ipython3",
   "version": "3.9.13"
  }
 },
 "nbformat": 4,
 "nbformat_minor": 5
}
