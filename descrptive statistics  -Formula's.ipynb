{
 "cells": [
  {
   "cell_type": "code",
   "execution_count": 1,
   "id": "d8f2f28c",
   "metadata": {},
   "outputs": [],
   "source": [
    "import pandas as pd\n",
    "import numpy as np"
   ]
  },
  {
   "cell_type": "code",
   "execution_count": 20,
   "id": "59199a3f",
   "metadata": {},
   "outputs": [],
   "source": [
    "\n",
    "class Statistics:\n",
    "    \n",
    "    def __init__(self, data):\n",
    "        ''' \n",
    "        Constructor (__init__)\n",
    "\n",
    "        self.data = data.select_dtypes(include='number'): \n",
    "        This line filters the input data to keep number columns.\n",
    "\n",
    "        Parameters:\n",
    "        - 'select_dtype': The special function in pandas designed to filter the database on data type.\n",
    "        - 'include='number'': The argument ensures that only columns with numerical data types such as float and integers are kept.\n",
    "\n",
    "        self.length:\n",
    "        Additionally, the number of rows, or the length of the filtered data, is computed and saved as the attribute self.length.\n",
    "        This can be helpful for a number of procedures where knowing the size of the data is necessary.\n",
    "        '''\n",
    "        self.data = data.select_dtypes(include='number')\n",
    "        self.length = len(self.data)\n",
    "\n",
    "    def arithmetic_mean(self, column_name):\n",
    "        '''\n",
    "        Finding the mean for the given column.\n",
    "        The working Structure of the first if statement:\n",
    "        Extracts a specific column from a DataFrame,\n",
    "        - Ensures that the data in that column is numerical,\n",
    "        - Handles non-numeric values gracefully by converting them to NaN,\n",
    "        - Cleans the data by removing rows with missing values,\n",
    "        - Provides a reliable set of numerical data for subsequent operations.\n",
    "        - Calculates the average of a set of numerical values.\n",
    "        - Handles potential empty datasets or missing columns gracefully.\n",
    "        - Returns either the calculated average, 0 (for empty datasets), or None (for missing columns),\n",
    "                     providing clear indications of the outcome.\n",
    "        '''\n",
    "        if column_name in self.data.columns:\n",
    "            column_data = self.data[column_name]\n",
    "            numeric_data = pd.to_numeric(column_data, errors='coerce')\n",
    "            valid_numeric_data = numeric_data.dropna()\n",
    "\n",
    "            sum_val = 0\n",
    "            count = 0\n",
    "            for val in numeric_data:\n",
    "                sum_val += val\n",
    "                count += 1\n",
    "\n",
    "            return sum_val / count if count > 0 else 0  \n",
    "        else:\n",
    "            return None \n",
    "\n",
    "    def geometric_mean(self, column_name):\n",
    "        \"\"\"\n",
    "        Calculate the geometric mean of numeric values in a specified column.\n",
    "\n",
    "        Parameters:\n",
    "        - column_name (str): The name of the column in the DataFrame.\n",
    "\n",
    "        Returns:\n",
    "        - float: The geometric mean of the numeric values in the specified column.\n",
    "          Returns 0 if the column is empty or contains non-numeric values.\n",
    "          Returns None if the specified column is not present in the DataFrame.\n",
    "        \"\"\"\n",
    "        if column_name in self.data.columns:\n",
    "            column_data = self.data[column_name]\n",
    "            numeric_data = pd.to_numeric(column_data, errors='coerce')\n",
    "            valid_numeric_data = numeric_data.dropna()\n",
    "            product = np.prod(numeric_data)\n",
    "            return (product ** (1 / len(numeric_data))) if len(numeric_data) > 0 else 0  \n",
    "        else:\n",
    "            return None  \n",
    "\n",
    "    def harmonic_mean(self, column_name):\n",
    "        \"\"\"\n",
    "        Calculate the harmonic mean of numeric values in a specified column.\n",
    "\n",
    "        Parameters:\n",
    "        - column_name (str): The name of the column in the DataFrame.\n",
    "\n",
    "        Returns:\n",
    "        - float: The harmonic mean of the numeric values in the specified column.\n",
    "          Returns 0 if the column contains 0 or non-numeric values.\n",
    "          Returns None if the specified column is not present in the DataFrame.\n",
    "        \"\"\"\n",
    "        if column_name in self.data.columns:\n",
    "            column_data = self.data[column_name]\n",
    "            numeric_data = pd.to_numeric(column_data, errors='coerce')\n",
    "            valid_numeric_data = numeric_data.dropna()\n",
    "\n",
    "            if 0 in numeric_data.values:\n",
    "                return 0  \n",
    "            return len(numeric_data) / sum(1 / num for num in numeric_data) if len(numeric_data) > 0 else 0\n",
    "        else:\n",
    "            return None\n",
    "\n",
    "    def median(self, column_name):\n",
    "        \"\"\"\n",
    "        Calculate the median of values in a specified column.\n",
    "\n",
    "        Parameters:\n",
    "        - column_name (str): The name of the column in the DataFrame.\n",
    "\n",
    "        Returns:\n",
    "        - float: The median value of the numeric values in the specified column.\n",
    "          Returns None if the specified column is not present in the DataFrame.\n",
    "        \"\"\"\n",
    "        if column_name in self.data.columns:\n",
    "            column_data = sorted(self.data[column_name])\n",
    "            n = len(column_data)\n",
    "            if n % 2 == 0:\n",
    "                median_value = (column_data[n // 2 - 1] + column_data[n // 2]) / 2\n",
    "            else:\n",
    "                median_value = column_data[n // 2]\n",
    "            return median_value\n",
    "        else:\n",
    "            return None \n",
    "\n",
    "    def variance(self, column_name):\n",
    "        \"\"\"\n",
    "        Calculate the variance of numeric values in a specified column.\n",
    "\n",
    "        Parameters:\n",
    "        - column_name (str): The name of the column in the DataFrame.\n",
    "\n",
    "        Returns:\n",
    "        - float: The variance of the numeric values in the specified column.\n",
    "          Returns 0 if the column is empty or contains non-numeric values.\n",
    "          Returns None if the specified column is not present in the DataFrame.\n",
    "        \"\"\"\n",
    "        if column_name in self.data.columns:\n",
    "            column_data = self.data[column_name]\n",
    "            numeric_data = pd.to_numeric(column_data, errors='coerce')\n",
    "            valid_numeric_data = numeric_data.dropna()\n",
    "\n",
    "            mean = self.arithmetic_mean(column_name)  \n",
    "            sum_squared_diff = sum((x - mean) ** 2 for x in numeric_data)  \n",
    "\n",
    "            return sum_squared_diff / len(numeric_data) if len(numeric_data) > 0 else 0  \n",
    "        else:\n",
    "            return None\n",
    "\n",
    "    def mode(self, column_name):\n",
    "        \"\"\"\n",
    "        Find the mode of values in a specified column.\n",
    "\n",
    "        Parameters:\n",
    "        - column_name (str): The name of the column in the DataFrame.\n",
    "\n",
    "        Returns:\n",
    "        - float or None: The mode value of the specified column. If there are multiple modes,\n",
    "          the method returns the first encountered. Returns None if the specified column is\n",
    "          not present in the DataFrame.\n",
    "        \"\"\"\n",
    "        freq = {}\n",
    "        for num in self.data[column_name]:\n",
    "            if num not in freq:\n",
    "                freq[num] = 1\n",
    "            else:\n",
    "                freq[num] += 1\n",
    "        mode_value = max(freq, key=freq.get)\n",
    "        return mode_value\n",
    "\n",
    "    def standard_deviation(self, column_name):\n",
    "        \"\"\"\n",
    "        Calculate the standard deviation of numeric values in a specified column.\n",
    "\n",
    "        Parameters:\n",
    "        - column_name (str): The name of the column in the DataFrame.\n",
    "\n",
    "        Returns:\n",
    "        - float: The standard deviation of the numeric values in the specified column.\n",
    "          Returns 0 if the column is empty or contains non-numeric values.\n",
    "          Returns None if the specified column is not present in the DataFrame.\n",
    "        \"\"\"\n",
    "        return self.variance(column_name) ** 0.5\n",
    "\n",
    "    def max_value(self, column_name):\n",
    "        \"\"\"\n",
    "        Find the maximum value in a specified column.\n",
    "\n",
    "        Parameters:\n",
    "        - column_name (str): The name of the column in the DataFrame.\n",
    "\n",
    "        Returns:\n",
    "        - float or None: The maximum value in the specified column.\n",
    "          Returns None if the specified column is not present in the DataFrame.\n",
    "        \"\"\"\n",
    "        return max(self.data[column_name])\n",
    "\n",
    "    def min_value(self, column_name):\n",
    "        \"\"\"\n",
    "        Find the minimum value in a specified column.\n",
    "\n",
    "        Parameters:\n",
    "        - column_name (str): The name of the column in the DataFrame.\n",
    "\n",
    "        Returns:\n",
    "        - float or None: The minimum value in the specified column.\n",
    "          Returns None if the specified column is not present in the DataFrame.\n",
    "        \"\"\"\n",
    "        return min(self.data[column_name])\n",
    "\n",
    "    def range_value(self, column_name):\n",
    "        \"\"\"\n",
    "        Calculate the range of values in a specified column.\n",
    "\n",
    "        Parameters:\n",
    "        - column_name (str): The name of the column in the DataFrame.\n",
    "\n",
    "        Returns:\n",
    "        - float or None: The range of values in the specified column (max - min).\n",
    "          Returns None if the specified column is not present in the DataFrame.\n",
    "        \"\"\"\n",
    "        max_value = max(self.data[column_name])\n",
    "        min_value = min(self.data[column_name])\n",
    "\n",
    "        range_value = max_value - min_value\n",
    "        return range_value\n",
    "\n",
    "    def iqr(self, column_name):\n",
    "        \"\"\"\n",
    "        Calculate the Interquartile Range (IQR) of values in a specified column.\n",
    "\n",
    "        Parameters:\n",
    "        - column_name (str): The name of the column in the DataFrame.\n",
    "\n",
    "        Returns:\n",
    "        - float or None: The Interquartile Range (IQR) of values in the specified column.\n",
    "          Returns None if the specified column is not present in the DataFrame.\n",
    "        \"\"\"\n",
    "        values = list(self.data[column_name])\n",
    "        n = len(values)\n",
    "        for i in range(n):\n",
    "            for j in range(0, n - i - 1):\n",
    "                if values[j] > values[j + 1]:\n",
    "                    values[j], values[j + 1] = values[j + 1], values[j]\n",
    "\n",
    "        q1_index = n // 4\n",
    "        q3_index = n * 3 // 4\n",
    "\n",
    "        q1 = values[q1_index]\n",
    "        q3 = values[q3_index]\n",
    "\n",
    "        return q3 - q1\n",
    "\n",
    "    def quartiles(self, column_name):\n",
    "        \"\"\"\n",
    "        Calculate the Interquartile Range (IQR) of values in a specified column.\n",
    "\n",
    "        Parameters:\n",
    "        - column_name (str): The name of the column in the DataFrame.\n",
    "\n",
    "        Returns:\n",
    "        - float or None: The Interquartile Range (IQR) of values in the specified column.\n",
    "          Returns None if the specified column is not present in the DataFrame.\n",
    "        \"\"\"\n",
    "        column = self.data[column_name]\n",
    "        q1_index = len(column) // 4\n",
    "        q2_index = len(column) // 2\n",
    "        q3_index = len(column) * 3 // 4\n",
    "\n",
    "        q1 = column[q1_index]\n",
    "        q2 = column[q2_index]\n",
    "        q3 = column[q3_index]\n",
    "\n",
    "        return q1, q2, q3\n",
    "\n",
    "    def coefficient_of_range(self, column_name):\n",
    "        \"\"\"\n",
    "        Calculate the quartiles (Q1, Q2, Q3) of values in a specified column.\n",
    "\n",
    "        Parameters:\n",
    "        - column_name (str): The name of the column in the DataFrame.\n",
    "\n",
    "        Returns:\n",
    "        - tuple or None: A tuple containing the first quartile (Q1), the second quartile (Q2 or median),\n",
    "          and the third quartile (Q3) of values in the specified column. Returns None if the specified\n",
    "          column is not present in the DataFrame.\n",
    "        \"\"\"\n",
    "        max_value = max(self.data[column_name])\n",
    "        min_value = min(self.data[column_name])\n",
    "        range_value = max_value - min_value\n",
    "        coefficient_of_range_value = range_value / (max_value + min_value)\n",
    "        return coefficient_of_range_value\n",
    "\n",
    "    def coefficient_of_variation(self, column_name):\n",
    "        \"\"\"\n",
    "        Calculate the Coefficient of Variation of values in a specified column.\n",
    "\n",
    "        Parameters:\n",
    "        - column_name (str): The name of the column in the DataFrame.\n",
    "\n",
    "        Returns:\n",
    "        - float or None: The Coefficient of Variation of values in the specified column.\n",
    "          Returns None if the specified column is not present in the DataFrame.\n",
    "        \"\"\"\n",
    "        return self.standard_deviation(column_name) / self.arithmetic_mean(column_name)\n",
    "\n",
    "    def coefficient_of_standard_deviation(self, column_name):\n",
    "        \"\"\"\n",
    "        Calculate the Coefficient of Standard Deviation of values in a specified column.\n",
    "\n",
    "        Parameters:\n",
    "        - column_name (str): The name of the column in the DataFrame.\n",
    "\n",
    "        Returns:\n",
    "        - float or None: The Coefficient of Standard Deviation of values in the specified column.\n",
    "          Returns None if the specified column is not present in the DataFrame.\n",
    "        \"\"\"\n",
    "        mean = sum(self.data[column_name]) / len(self.data[column_name])\n",
    "        std_dev = (sum((x - mean) ** 2 for x in self.data[column_name]) / len(self.data[column_name])) ** 0.5\n",
    "        max_value = max(self.data[column_name])\n",
    "        min_value = min(self.data[column_name])\n",
    "        range_value = max_value - min_value\n",
    "        coefficient_of_std_dev_value = std_dev / range_value\n",
    "        return coefficient_of_std_dev_value\n",
    "    \n",
    "    def covariance(self, column_name1, column_name2):\n",
    "        '''\n",
    "        Calculates the correlation between two columns in the DataFrame.\n",
    "\n",
    "        Parameters:\n",
    "        - column_name1 (str): The name of the first column.\n",
    "        - column_name2 (str): The name of the second column.\n",
    "\n",
    "        Returns:\n",
    "        - float: The correlation coefficient between the two columns.\n",
    "        '''\n",
    "        mean_x = self.data[column_name1].mean()\n",
    "        mean_y = self.data[column_name2].mean()\n",
    "\n",
    "        covariation = ((self.data[column_name1] - mean_x) * (self.data[column_name2] - mean_y)).sum() / (len(self.data) - 1)\n",
    "        return covariation\n",
    "    \n",
    "    def correlation(self, column_name1, column_name2):\n",
    "        \n",
    "            \n",
    "        mean1 = self.data[column_name1].mean()\n",
    "        mean2 = self.data[column_name2].mean()\n",
    "    \n",
    "        numerator = sum((self.data[column_name1][i] - mean1) * (self.data[column_name2][i] - mean2) for i in range(len(self.data)))\n",
    "        denominator1 = sum((self.data[column_name1][i] - mean1)**2 for i in range(len(self.data)))\n",
    "        denominator2 = sum((self.data[column_name2][i] - mean2)**2 for i in range(len(self.data)))\n",
    "    \n",
    "        correlation = numerator / (denominator1**0.5 * denominator2**0.5)\n",
    "    \n",
    "        return correlation\n"
   ]
  },
  {
   "cell_type": "code",
   "execution_count": 3,
   "id": "eaf1ed7e",
   "metadata": {},
   "outputs": [
    {
     "data": {
      "text/plain": [
       "3.0540000000000007"
      ]
     },
     "execution_count": 3,
     "metadata": {},
     "output_type": "execute_result"
    }
   ],
   "source": [
    "df = pd.read_csv(r\"C:\\Users\\pc\\Downloads\\Iris.csv\")\n",
    "stat = Statistics(df)\n",
    "\n",
    "stat.arithmetic_mean('SepalWidthCm')"
   ]
  },
  {
   "cell_type": "code",
   "execution_count": 4,
   "id": "8752eded",
   "metadata": {},
   "outputs": [
    {
     "data": {
      "text/plain": [
       "3.0235822036025914"
      ]
     },
     "execution_count": 4,
     "metadata": {},
     "output_type": "execute_result"
    }
   ],
   "source": [
    "stat.geometric_mean('SepalWidthCm')"
   ]
  },
  {
   "cell_type": "code",
   "execution_count": 5,
   "id": "1b3262f6",
   "metadata": {},
   "outputs": [
    {
     "data": {
      "text/plain": [
       "2.9931367940540596"
      ]
     },
     "execution_count": 5,
     "metadata": {},
     "output_type": "execute_result"
    }
   ],
   "source": [
    "stat.harmonic_mean('SepalWidthCm')"
   ]
  },
  {
   "cell_type": "code",
   "execution_count": 6,
   "id": "00e867bf",
   "metadata": {},
   "outputs": [
    {
     "data": {
      "text/plain": [
       "3.0"
      ]
     },
     "execution_count": 6,
     "metadata": {},
     "output_type": "execute_result"
    }
   ],
   "source": [
    "stat.median('SepalWidthCm')"
   ]
  },
  {
   "cell_type": "code",
   "execution_count": 7,
   "id": "a657eb75",
   "metadata": {},
   "outputs": [
    {
     "data": {
      "text/plain": [
       "0.1867506666666667"
      ]
     },
     "execution_count": 7,
     "metadata": {},
     "output_type": "execute_result"
    }
   ],
   "source": [
    "stat.variance('SepalWidthCm')"
   ]
  },
  {
   "cell_type": "code",
   "execution_count": 8,
   "id": "39ab4daa",
   "metadata": {},
   "outputs": [
    {
     "data": {
      "text/plain": [
       "3.0"
      ]
     },
     "execution_count": 8,
     "metadata": {},
     "output_type": "execute_result"
    }
   ],
   "source": [
    "stat.mode('SepalWidthCm')"
   ]
  },
  {
   "cell_type": "code",
   "execution_count": 9,
   "id": "0f8fbb44",
   "metadata": {},
   "outputs": [
    {
     "data": {
      "text/plain": [
       "0.4321465800705435"
      ]
     },
     "execution_count": 9,
     "metadata": {},
     "output_type": "execute_result"
    }
   ],
   "source": [
    "stat.standard_deviation('SepalWidthCm')"
   ]
  },
  {
   "cell_type": "code",
   "execution_count": 10,
   "id": "654bc1f5",
   "metadata": {},
   "outputs": [
    {
     "data": {
      "text/plain": [
       "4.4"
      ]
     },
     "execution_count": 10,
     "metadata": {},
     "output_type": "execute_result"
    }
   ],
   "source": [
    "stat.max_value('SepalWidthCm')"
   ]
  },
  {
   "cell_type": "code",
   "execution_count": 11,
   "id": "ed172d01",
   "metadata": {},
   "outputs": [
    {
     "data": {
      "text/plain": [
       "2.0"
      ]
     },
     "execution_count": 11,
     "metadata": {},
     "output_type": "execute_result"
    }
   ],
   "source": [
    "stat.min_value('SepalWidthCm')"
   ]
  },
  {
   "cell_type": "code",
   "execution_count": 12,
   "id": "4b8437d6",
   "metadata": {},
   "outputs": [
    {
     "data": {
      "text/plain": [
       "2.4000000000000004"
      ]
     },
     "execution_count": 12,
     "metadata": {},
     "output_type": "execute_result"
    }
   ],
   "source": [
    "stat.range_value('SepalWidthCm')"
   ]
  },
  {
   "cell_type": "code",
   "execution_count": 13,
   "id": "03436bb8",
   "metadata": {},
   "outputs": [
    {
     "data": {
      "text/plain": [
       "0.5"
      ]
     },
     "execution_count": 13,
     "metadata": {},
     "output_type": "execute_result"
    }
   ],
   "source": [
    "stat.iqr('SepalWidthCm')"
   ]
  },
  {
   "cell_type": "code",
   "execution_count": 14,
   "id": "f0967f89",
   "metadata": {},
   "outputs": [
    {
     "data": {
      "text/plain": [
       "(3.1, 3.0, 3.0)"
      ]
     },
     "execution_count": 14,
     "metadata": {},
     "output_type": "execute_result"
    }
   ],
   "source": [
    "stat.quartiles('SepalWidthCm')"
   ]
  },
  {
   "cell_type": "code",
   "execution_count": 15,
   "id": "5ea66b2e",
   "metadata": {},
   "outputs": [
    {
     "data": {
      "text/plain": [
       "0.37500000000000006"
      ]
     },
     "execution_count": 15,
     "metadata": {},
     "output_type": "execute_result"
    }
   ],
   "source": [
    "stat.coefficient_of_range('SepalWidthCm')"
   ]
  },
  {
   "cell_type": "code",
   "execution_count": 16,
   "id": "54e887bb",
   "metadata": {},
   "outputs": [
    {
     "data": {
      "text/plain": [
       "0.14150182713508297"
      ]
     },
     "execution_count": 16,
     "metadata": {},
     "output_type": "execute_result"
    }
   ],
   "source": [
    "stat.coefficient_of_variation('SepalWidthCm')"
   ]
  },
  {
   "cell_type": "code",
   "execution_count": 17,
   "id": "2ccb7ba6",
   "metadata": {},
   "outputs": [
    {
     "data": {
      "text/plain": [
       "0.18006107502939311"
      ]
     },
     "execution_count": 17,
     "metadata": {},
     "output_type": "execute_result"
    }
   ],
   "source": [
    "stat.coefficient_of_standard_deviation('SepalWidthCm')"
   ]
  },
  {
   "cell_type": "code",
   "execution_count": 18,
   "id": "fa8f6aa2",
   "metadata": {},
   "outputs": [
    {
     "data": {
      "text/plain": [
       "-0.3217127516778523"
      ]
     },
     "execution_count": 18,
     "metadata": {},
     "output_type": "execute_result"
    }
   ],
   "source": [
    "stat.covariance(\"SepalWidthCm\", \"PetalLengthCm\")\n"
   ]
  },
  {
   "cell_type": "code",
   "execution_count": 19,
   "id": "4a0105fa",
   "metadata": {},
   "outputs": [
    {
     "data": {
      "text/plain": [
       "-0.4205160964011544"
      ]
     },
     "execution_count": 19,
     "metadata": {},
     "output_type": "execute_result"
    }
   ],
   "source": [
    "stat.correlation(\"SepalWidthCm\", \"PetalLengthCm\")"
   ]
  },
  {
   "cell_type": "code",
   "execution_count": null,
   "id": "ac4e8c59",
   "metadata": {},
   "outputs": [],
   "source": []
  },
  {
   "cell_type": "code",
   "execution_count": null,
   "id": "7c53a9f0",
   "metadata": {},
   "outputs": [],
   "source": []
  }
 ],
 "metadata": {
  "kernelspec": {
   "display_name": "Python 3 (ipykernel)",
   "language": "python",
   "name": "python3"
  },
  "language_info": {
   "codemirror_mode": {
    "name": "ipython",
    "version": 3
   },
   "file_extension": ".py",
   "mimetype": "text/x-python",
   "name": "python",
   "nbconvert_exporter": "python",
   "pygments_lexer": "ipython3",
   "version": "3.9.13"
  }
 },
 "nbformat": 4,
 "nbformat_minor": 5
}
